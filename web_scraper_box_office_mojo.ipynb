{
 "metadata": {
  "language_info": {
   "codemirror_mode": {
    "name": "ipython",
    "version": 3
   },
   "file_extension": ".py",
   "mimetype": "text/x-python",
   "name": "python",
   "nbconvert_exporter": "python",
   "pygments_lexer": "ipython3",
   "version": "3.8.8"
  },
  "orig_nbformat": 4,
  "kernelspec": {
   "name": "python3",
   "display_name": "Python 3.8.8 64-bit"
  },
  "interpreter": {
   "hash": "1baa965d5efe3ac65b79dfc60c0d706280b1da80fedb7760faf2759126c4f253"
  }
 },
 "nbformat": 4,
 "nbformat_minor": 2,
 "cells": [
  {
   "cell_type": "code",
   "execution_count": 1,
   "metadata": {},
   "outputs": [],
   "source": [
    "import requests\n",
    "from bs4 import BeautifulSoup\n",
    "import pandas as pd\n",
    "\n",
    "# get the data\n",
    "def get(url):\n",
    "    \"\"\"\n",
    "    its a funtion to get the data from webpage\n",
    "    \"\"\"    \n",
    "    page = requests.get(url) \n",
    "    if page.status_code == 200:\n",
    "        htmldata = page.text\n",
    "        soup = BeautifulSoup(htmldata, 'lxml')\n",
    "        print('success')\n",
    "        return soup\n",
    "    else:\n",
    "        print('error',page.status_code)"
   ]
  },
  {
   "cell_type": "code",
   "execution_count": 35,
   "metadata": {},
   "outputs": [],
   "source": [
    "url = \"https://www.boxofficemojo.com/year\""
   ]
  },
  {
   "cell_type": "code",
   "execution_count": 68,
   "metadata": {},
   "outputs": [],
   "source": [
    "def extract(soup):\n",
    "    table = soup.find('div',{'id':'table'})\n",
    "    rows = table.find_all('tr')[1:]\n",
    "    print(len(rows))\n",
    "    movies = []\n",
    "    for row in rows:\n",
    "        data = row.find_all('td')\n",
    "        try:\n",
    "            tg = data[1].text.replace('$','').replace(\",\",'')\n",
    "        except:\n",
    "            tg = None\n",
    "        try:\n",
    "            cpy = data[2].text.replace('%','')\n",
    "        except:\n",
    "            cpy = None\n",
    "        try:\n",
    "            avg = data[4].text.replace('$','').replace(\",\",'')\n",
    "        except:\n",
    "            avg = 0\n",
    "        rel = data[3].text\n",
    "        movie_dict = {\n",
    "            'year':int(data[0].text),\n",
    "            'total_gross':tg,\n",
    "            'change_per_year':cpy,\n",
    "            'releases':rel,\n",
    "            'average':avg,\n",
    "            'top_movie':data[5].text\n",
    "        }\n",
    "        movies.append(movie_dict)\n",
    "    return movies\n",
    "\n",
    "def save(dataset,filename=\"out.csv\"):\n",
    "    if len(dataset) > 0:\n",
    "        print('saving dataset...')\n",
    "        df = pd.DataFrame(dataset)\n",
    "        df.to_csv(filename)\n",
    "        print('saved file to', filename)\n",
    "        return filename\n",
    "    else:\n",
    "        print('could not save empty dataset')\n",
    "        return None"
   ]
  },
  {
   "cell_type": "code",
   "execution_count": 69,
   "metadata": {},
   "outputs": [
    {
     "output_type": "stream",
     "name": "stdout",
     "text": [
      "success\n45\n"
     ]
    }
   ],
   "source": [
    "data = extract(get(\"https://www.boxofficemojo.com/year/\"))"
   ]
  },
  {
   "cell_type": "code",
   "execution_count": 70,
   "metadata": {},
   "outputs": [
    {
     "output_type": "stream",
     "name": "stdout",
     "text": [
      "saving dataset...\nsaved file to movie_gross.csv\n"
     ]
    },
    {
     "output_type": "execute_result",
     "data": {
      "text/plain": [
       "'movie_gross.csv'"
      ]
     },
     "metadata": {},
     "execution_count": 70
    }
   ],
   "source": [
    "save(data,'movie_gross.csv')"
   ]
  },
  {
   "cell_type": "code",
   "execution_count": 82,
   "metadata": {},
   "outputs": [
    {
     "output_type": "stream",
     "name": "stdout",
     "text": [
      "success\n200\n"
     ]
    },
    {
     "output_type": "execute_result",
     "data": {
      "text/plain": [
       "[{'year': 2021, 'total_gross': '822054381', 'movie': 'Hi, Mom'},\n",
       " {'year': 2021, 'total_gross': '686257563', 'movie': 'Detective Chinatown 3'},\n",
       " {'year': 2021, 'total_gross': '591716670', 'movie': 'F9: The Fast Saga'}]"
      ]
     },
     "metadata": {},
     "execution_count": 82
    }
   ],
   "source": [
    "url = 'https://www.boxofficemojo.com/year/world/2021/'\n",
    "soup = get(url)\n",
    "table = soup.find('div',{'class':'a-section imdb-scroll-table-inner'})\n",
    "rows = table.find_all('tr')[1:]\n",
    "year = 2021\n",
    "print(len(rows))\n",
    "movies = []\n",
    "for row in rows:\n",
    "    data = row.find_all('td')\n",
    "    try:\n",
    "        tg = data[2].text.replace('$','').replace(\",\",'')\n",
    "    except:\n",
    "        tg = None\n",
    "    rel = data[3].text\n",
    "    movie_dict = {\n",
    "        'year':year,\n",
    "        'total_gross':tg,\n",
    "        'movie':data[1].text\n",
    "    }\n",
    "    movies.append(movie_dict)\n",
    "movies[:3]"
   ]
  },
  {
   "cell_type": "code",
   "execution_count": 83,
   "metadata": {},
   "outputs": [
    {
     "output_type": "stream",
     "name": "stdout",
     "text": [
      "success\n200\n"
     ]
    },
    {
     "output_type": "execute_result",
     "data": {
      "text/plain": [
       "[{'year': 2020,\n",
       "  'total_gross': '4781389',\n",
       "  'movie': 'The Broken Hearts Gallery'},\n",
       " {'year': 2020,\n",
       "  'total_gross': '4780585',\n",
       "  'movie': 'Gladiator 20th Anniversary'},\n",
       " {'year': 2020, 'total_gross': '4751103', 'movie': 'Intruder'}]"
      ]
     },
     "metadata": {},
     "execution_count": 83
    }
   ],
   "source": [
    "url = 'https://www.boxofficemojo.com/year/world/2020/'\n",
    "soup = get(url)\n",
    "table = soup.find('div',{'class':'a-section imdb-scroll-table-inner'})\n",
    "rows = table.find_all('tr')[1:]\n",
    "year = 2020\n",
    "print(len(rows))\n",
    "for row in rows:\n",
    "    data = row.find_all('td')\n",
    "    try:\n",
    "        tg = data[2].text.replace('$','').replace(\",\",'')\n",
    "    except:\n",
    "        tg = None\n",
    "    rel = data[3].text\n",
    "    movie_dict = {\n",
    "        'year':year,\n",
    "        'total_gross':tg,\n",
    "        'movie':data[1].text\n",
    "    }\n",
    "    movies.append(movie_dict)\n",
    "movies[-3:]"
   ]
  },
  {
   "cell_type": "code",
   "execution_count": 84,
   "metadata": {},
   "outputs": [
    {
     "output_type": "stream",
     "name": "stdout",
     "text": [
      "success\n200\n"
     ]
    },
    {
     "output_type": "execute_result",
     "data": {
      "text/plain": [
       "[{'year': 2019, 'total_gross': '18653107', 'movie': 'Greta'},\n",
       " {'year': 2019,\n",
       "  'total_gross': '18653040',\n",
       "  'movie': 'Peppa Celebrates Chinese New Year'},\n",
       " {'year': 2019, 'total_gross': '18529730', 'movie': 'Black Christmas'}]"
      ]
     },
     "metadata": {},
     "execution_count": 84
    }
   ],
   "source": [
    "url = 'https://www.boxofficemojo.com/year/world/2019/'\n",
    "soup = get(url)\n",
    "table = soup.find('div',{'class':'a-section imdb-scroll-table-inner'})\n",
    "rows = table.find_all('tr')[1:]\n",
    "year = 2019\n",
    "print(len(rows))\n",
    "for row in rows:\n",
    "    data = row.find_all('td')\n",
    "    try:\n",
    "        tg = data[2].text.replace('$','').replace(\",\",'')\n",
    "    except:\n",
    "        tg = None\n",
    "    rel = data[3].text\n",
    "    movie_dict = {\n",
    "        'year':year,\n",
    "        'total_gross':tg,\n",
    "        'movie':data[1].text\n",
    "    }\n",
    "    movies.append(movie_dict)\n",
    "movies[-3:]"
   ]
  },
  {
   "cell_type": "code",
   "execution_count": 85,
   "metadata": {},
   "outputs": [
    {
     "output_type": "stream",
     "name": "stdout",
     "text": [
      "success\n200\n"
     ]
    },
    {
     "output_type": "execute_result",
     "data": {
      "text/plain": [
       "[{'year': 2018, 'total_gross': '22435156', 'movie': 'Europe Raiders'},\n",
       " {'year': 2018, 'total_gross': '22381583', 'movie': 'Mojin: The Worm Valley'},\n",
       " {'year': 2018, 'total_gross': '22075730', 'movie': 'Stree'}]"
      ]
     },
     "metadata": {},
     "execution_count": 85
    }
   ],
   "source": [
    "url = 'https://www.boxofficemojo.com/year/world/2018/'\n",
    "soup = get(url)\n",
    "table = soup.find('div',{'class':'a-section imdb-scroll-table-inner'})\n",
    "rows = table.find_all('tr')[1:]\n",
    "year = 2018\n",
    "print(len(rows))\n",
    "for row in rows:\n",
    "    data = row.find_all('td')\n",
    "    try:\n",
    "        tg = data[2].text.replace('$','').replace(\",\",'')\n",
    "    except:\n",
    "        tg = None\n",
    "    rel = data[3].text\n",
    "    movie_dict = {\n",
    "        'year':year,\n",
    "        'total_gross':tg,\n",
    "        'movie':data[1].text\n",
    "    }\n",
    "    movies.append(movie_dict)\n",
    "movies[-3:]"
   ]
  },
  {
   "cell_type": "code",
   "execution_count": 87,
   "metadata": {},
   "outputs": [
    {
     "output_type": "stream",
     "name": "stdout",
     "text": [
      "saving dataset...\nsaved file to movies_yearly.csv\n"
     ]
    },
    {
     "output_type": "execute_result",
     "data": {
      "text/plain": [
       "'movies_yearly.csv'"
      ]
     },
     "metadata": {},
     "execution_count": 87
    }
   ],
   "source": [
    "save(movies,'movies_yearly.csv')"
   ]
  },
  {
   "cell_type": "code",
   "execution_count": null,
   "metadata": {},
   "outputs": [],
   "source": []
  }
 ]
}