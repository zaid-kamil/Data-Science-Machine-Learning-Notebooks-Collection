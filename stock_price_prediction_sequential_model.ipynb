{
 "cells": [
  {
   "cell_type": "code",
   "execution_count": 1,
   "metadata": {
    "colab": {
     "base_uri": "https://localhost:8080/"
    },
    "executionInfo": {
     "elapsed": 1427,
     "status": "ok",
     "timestamp": 1618749145256,
     "user": {
      "displayName": "Anant Jain",
      "photoUrl": "https://lh3.googleusercontent.com/a-/AOh14Gj6TzxaYbWsxGEJHHG5lOOZbVDn_5erfn044ud_iQ=s64",
      "userId": "03345204549983849081"
     },
     "user_tz": -330
    },
    "id": "co2ct7CJLBfb",
    "outputId": "fbb3558a-4d70-40d3-ad63-80ad7161467b"
   },
   "outputs": [
    {
     "name": "stdout",
     "output_type": "stream",
     "text": [
      "Writing model.py\n"
     ]
    }
   ],
   "source": [
    "%%writefile model.py\n",
    "import numpy as np\n",
    "import matplotlib.pyplot as plt\n",
    "import pandas as pd\n",
    "import pandas_datareader as web\n",
    "import datetime as dt\n",
    "from sklearn.preprocessing import MinMaxScaler\n",
    "from sklearn.model_selection import train_test_split\n",
    "from sklearn.metrics import r2_score\n",
    "from tensorflow.keras.models import Sequential\n",
    "from tensorflow.keras.layers import Dense, Dropout, LSTM\n",
    "\n",
    "\n",
    "class Model:\n",
    "  def __init__(self):\n",
    "    stk_data = pd.read_csv('stk_data.csv')\n",
    "    self.data, self.test_data = train_test_split(\n",
    "      stk_data, test_size=.2, shuffle=False)\n",
    "    self.scaler = MinMaxScaler(feature_range=(0,1))\n",
    "    self.scaled_data = self.scaler.fit_transform(\n",
    "      self.data['Close'].values.reshape(-1,1))\n",
    "    prediction_days = 60\n",
    "    self.x_train = []\n",
    "    self.y_train = []\n",
    "    for x in range(prediction_days, len(self.scaled_data)):\n",
    "      self.x_train.append(self.scaled_data[x-prediction_days:x, 0])\n",
    "      self.y_train.append(self.scaled_data[x, 0])\n",
    "    self.x_train, self.y_train = np.array(self.x_train), np.array(self.y_train)\n",
    "    self.x_train = np.reshape(\n",
    "      self.x_train, (self.x_train.shape[0], self.x_train.shape[1], 1))\n",
    "    #test data preparation\n",
    "    self.actual_prices = self.test_data['Close'].values\n",
    "    self.total_dataset = pd.concat(\n",
    "      (self.data['Close'], self.test_data['Close']), axis=0)\n",
    "    self.model_inputs = self.total_dataset[\n",
    "      len(self.total_dataset) - len(self.test_data) - prediction_days:].values\n",
    "    self.model_inputs = self.model_inputs.reshape(-1,1)\n",
    "    self.model_inputs = self.scaler.transform(self.model_inputs)\n",
    "    self.x_test = []\n",
    "    for x in range(prediction_days, len(self.model_inputs)):\n",
    "      self.x_test.append(self.model_inputs[x-prediction_days:x, 0])\n",
    "    self.x_test = np.array(self.x_test)\n",
    "    self.x_test = np.reshape(\n",
    "      self.x_test, (self.x_test.shape[0], self.x_test.shape[1], 1))\n",
    "    return\n",
    "\n",
    "  def create(self):\n",
    "    self.model = Sequential()\n",
    "    self.model.add(LSTM(units=50, return_sequences=True, input_shape=(\n",
    "      self.x_train.shape[1], 1)))\n",
    "    self.model.add(Dropout(0.2))\n",
    "    self.model.add(LSTM(units=50, return_sequences=True))\n",
    "    self.model.add(Dropout(0.2))\n",
    "    self.model.add(LSTM(units=50))\n",
    "    self.model.add(Dropout(0.2))\n",
    "    self.model.add(Dense(units=1))\n",
    "    self.model.compile(optimizer='adam', loss='mean_squared_error')\n",
    "    self.model.fit(self.x_train, self.y_train, epochs=25, batch_size=32)\n",
    "    return self.model\n",
    "    \n",
    "  def predict(self, model):\n",
    "    self.model = model\n",
    "    self.predicted_prices = self.model.predict(self.x_test)\n",
    "    self.predicted_prices = self.scaler.inverse_transform(self.predicted_prices)\n",
    "\n",
    "  def plotting(self):\n",
    "    plt.plot(self.actual_prices, color = \"black\", label=f\"Actual {company} price\")\n",
    "    plt.plot(self.predicted_prices, color='green', label=f'Predicted {company} prices')\n",
    "    plt.title(f\"{company} Share Price\")\n",
    "    plt.xlabel('Time')\n",
    "    plt.ylabel(f'{company} Share Price')\n",
    "    plt.legend()\n",
    "    plt.show()\n",
    "\n",
    "  def results(self):\n",
    "    prediction_days = 60\n",
    "    self.real_data = [\n",
    "      self.model_inputs[\n",
    "        len(self.model_inputs)+1-prediction_days:len(self.model_inputs+1), 0]]\n",
    "    self.real_data = np.array(self.real_data)\n",
    "    self.real_data = np.reshape(\n",
    "      self.real_data, (self.real_data.shape[0], self.real_data.shape[1], 1))\n",
    "    prediction = self.model.predict(self.real_data)\n",
    "    prediction = self.scaler.inverse_transform(prediction)\n",
    "    r2 = r2_score(self.actual_prices, self.predicted_prices)\n",
    "    return {'r2': r2,'prediction': prediction}\n"
   ]
  },
  {
   "cell_type": "code",
   "execution_count": 2,
   "metadata": {
    "executionInfo": {
     "elapsed": 1786,
     "status": "ok",
     "timestamp": 1618749151989,
     "user": {
      "displayName": "Anant Jain",
      "photoUrl": "https://lh3.googleusercontent.com/a-/AOh14Gj6TzxaYbWsxGEJHHG5lOOZbVDn_5erfn044ud_iQ=s64",
      "userId": "03345204549983849081"
     },
     "user_tz": -330
    },
    "id": "jIo6-s1mYKpE"
   },
   "outputs": [],
   "source": [
    "import pandas_datareader as web\n",
    "import datetime as dt"
   ]
  },
  {
   "cell_type": "code",
   "execution_count": 16,
   "metadata": {
    "executionInfo": {
     "elapsed": 3965,
     "status": "ok",
     "timestamp": 1618749647059,
     "user": {
      "displayName": "Anant Jain",
      "photoUrl": "https://lh3.googleusercontent.com/a-/AOh14Gj6TzxaYbWsxGEJHHG5lOOZbVDn_5erfn044ud_iQ=s64",
      "userId": "03345204549983849081"
     },
     "user_tz": -330
    },
    "id": "dlohrw7V_W_F"
   },
   "outputs": [],
   "source": [
    "def save(tik):\n",
    "  data = web.DataReader(tik, 'yahoo', start, end)\n",
    "  data.to_csv('stk_data.csv', index=True)\n",
    "  nn = Model()\n",
    "  seq = nn.create()\n",
    "  seq.save(f'models/{tik}_nn')"
   ]
  },
  {
   "cell_type": "code",
   "execution_count": 33,
   "metadata": {
    "executionInfo": {
     "elapsed": 1766,
     "status": "ok",
     "timestamp": 1618752802658,
     "user": {
      "displayName": "Anant Jain",
      "photoUrl": "https://lh3.googleusercontent.com/a-/AOh14Gj6TzxaYbWsxGEJHHG5lOOZbVDn_5erfn044ud_iQ=s64",
      "userId": "03345204549983849081"
     },
     "user_tz": -330
    },
    "id": "NwXN8vD5_y99"
   },
   "outputs": [],
   "source": [
    "tiks = [\n",
    "        'TTC',\n",
    "        'CCIV',\n",
    "        'PLUG',\n",
    "        'Z74.SI',\n",
    "        'FCEL',\n",
    "]"
   ]
  },
  {
   "cell_type": "code",
   "execution_count": 34,
   "metadata": {
    "colab": {
     "base_uri": "https://localhost:8080/"
    },
    "executionInfo": {
     "elapsed": 588900,
     "status": "ok",
     "timestamp": 1618753393889,
     "user": {
      "displayName": "Anant Jain",
      "photoUrl": "https://lh3.googleusercontent.com/a-/AOh14Gj6TzxaYbWsxGEJHHG5lOOZbVDn_5erfn044ud_iQ=s64",
      "userId": "03345204549983849081"
     },
     "user_tz": -330
    },
    "id": "xffD5HvPAm8i",
    "outputId": "f55942ca-f22b-4c69-ed3d-60afd9bb662e"
   },
   "outputs": [
    {
     "name": "stdout",
     "output_type": "stream",
     "text": [
      "Epoch 1/25\n",
      "57/57 [==============================] - 9s 80ms/step - loss: 0.0747\n",
      "Epoch 2/25\n",
      "57/57 [==============================] - 4s 79ms/step - loss: 0.0033\n",
      "Epoch 3/25\n",
      "57/57 [==============================] - 5s 79ms/step - loss: 0.0032\n",
      "Epoch 4/25\n",
      "57/57 [==============================] - 5s 80ms/step - loss: 0.0031\n",
      "Epoch 5/25\n",
      "57/57 [==============================] - 5s 81ms/step - loss: 0.0029\n",
      "Epoch 6/25\n",
      "57/57 [==============================] - 5s 82ms/step - loss: 0.0028\n",
      "Epoch 7/25\n",
      "57/57 [==============================] - 5s 81ms/step - loss: 0.0028\n",
      "Epoch 8/25\n",
      "57/57 [==============================] - 5s 84ms/step - loss: 0.0032\n",
      "Epoch 9/25\n",
      "57/57 [==============================] - 5s 84ms/step - loss: 0.0024\n",
      "Epoch 10/25\n",
      "57/57 [==============================] - 5s 82ms/step - loss: 0.0028\n",
      "Epoch 11/25\n",
      "57/57 [==============================] - 5s 83ms/step - loss: 0.0028\n",
      "Epoch 12/25\n",
      "57/57 [==============================] - 5s 83ms/step - loss: 0.0027\n",
      "Epoch 13/25\n",
      "57/57 [==============================] - 5s 84ms/step - loss: 0.0024\n",
      "Epoch 14/25\n",
      "57/57 [==============================] - 5s 84ms/step - loss: 0.0025\n",
      "Epoch 15/25\n",
      "57/57 [==============================] - 5s 83ms/step - loss: 0.0021\n",
      "Epoch 16/25\n",
      "57/57 [==============================] - 5s 83ms/step - loss: 0.0027\n",
      "Epoch 17/25\n",
      "57/57 [==============================] - 5s 83ms/step - loss: 0.0022\n",
      "Epoch 18/25\n",
      "57/57 [==============================] - 5s 83ms/step - loss: 0.0027\n",
      "Epoch 19/25\n",
      "57/57 [==============================] - 5s 83ms/step - loss: 0.0023\n",
      "Epoch 20/25\n",
      "57/57 [==============================] - 5s 83ms/step - loss: 0.0023\n",
      "Epoch 21/25\n",
      "57/57 [==============================] - 5s 83ms/step - loss: 0.0023\n",
      "Epoch 22/25\n",
      "57/57 [==============================] - 5s 83ms/step - loss: 0.0021\n",
      "Epoch 23/25\n",
      "57/57 [==============================] - 5s 83ms/step - loss: 0.0018\n",
      "Epoch 24/25\n",
      "57/57 [==============================] - 5s 84ms/step - loss: 0.0023\n",
      "Epoch 25/25\n",
      "57/57 [==============================] - 5s 83ms/step - loss: 0.0021\n"
     ]
    },
    {
     "name": "stderr",
     "output_type": "stream",
     "text": [
      "WARNING:absl:Found untraced functions such as lstm_cell_48_layer_call_and_return_conditional_losses, lstm_cell_48_layer_call_fn, lstm_cell_49_layer_call_and_return_conditional_losses, lstm_cell_49_layer_call_fn, lstm_cell_50_layer_call_and_return_conditional_losses while saving (showing 5 of 15). These functions will not be directly callable after loading.\n",
      "WARNING:absl:Found untraced functions such as lstm_cell_48_layer_call_and_return_conditional_losses, lstm_cell_48_layer_call_fn, lstm_cell_49_layer_call_and_return_conditional_losses, lstm_cell_49_layer_call_fn, lstm_cell_50_layer_call_and_return_conditional_losses while saving (showing 5 of 15). These functions will not be directly callable after loading.\n"
     ]
    },
    {
     "name": "stdout",
     "output_type": "stream",
     "text": [
      "INFO:tensorflow:Assets written to: models/TTC_nn/assets\n"
     ]
    },
    {
     "name": "stderr",
     "output_type": "stream",
     "text": [
      "INFO:tensorflow:Assets written to: models/TTC_nn/assets\n"
     ]
    },
    {
     "name": "stdout",
     "output_type": "stream",
     "text": [
      "Epoch 1/25\n",
      "2/2 [==============================] - 5s 80ms/step - loss: 0.1599\n",
      "Epoch 2/25\n",
      "2/2 [==============================] - 0s 73ms/step - loss: 0.0982\n",
      "Epoch 3/25\n",
      "2/2 [==============================] - 0s 90ms/step - loss: 0.0689\n",
      "Epoch 4/25\n",
      "2/2 [==============================] - 0s 75ms/step - loss: 0.0423\n",
      "Epoch 5/25\n",
      "2/2 [==============================] - 0s 80ms/step - loss: 0.0718\n",
      "Epoch 6/25\n",
      "2/2 [==============================] - 0s 77ms/step - loss: 0.0485\n",
      "Epoch 7/25\n",
      "2/2 [==============================] - 0s 78ms/step - loss: 0.0396\n",
      "Epoch 8/25\n",
      "2/2 [==============================] - 0s 81ms/step - loss: 0.0467\n",
      "Epoch 9/25\n",
      "2/2 [==============================] - 0s 74ms/step - loss: 0.0469\n",
      "Epoch 10/25\n",
      "2/2 [==============================] - 0s 77ms/step - loss: 0.0457\n",
      "Epoch 11/25\n",
      "2/2 [==============================] - 0s 75ms/step - loss: 0.0417\n",
      "Epoch 12/25\n",
      "2/2 [==============================] - 0s 78ms/step - loss: 0.0411\n",
      "Epoch 13/25\n",
      "2/2 [==============================] - 0s 77ms/step - loss: 0.0493\n",
      "Epoch 14/25\n",
      "2/2 [==============================] - 0s 81ms/step - loss: 0.0448\n",
      "Epoch 15/25\n",
      "2/2 [==============================] - 0s 77ms/step - loss: 0.0435\n",
      "Epoch 16/25\n",
      "2/2 [==============================] - 0s 80ms/step - loss: 0.0347\n",
      "Epoch 17/25\n",
      "2/2 [==============================] - 0s 84ms/step - loss: 0.0332\n",
      "Epoch 18/25\n",
      "2/2 [==============================] - 0s 88ms/step - loss: 0.0431\n",
      "Epoch 19/25\n",
      "2/2 [==============================] - 0s 83ms/step - loss: 0.0357\n",
      "Epoch 20/25\n",
      "2/2 [==============================] - 0s 79ms/step - loss: 0.0347\n",
      "Epoch 21/25\n",
      "2/2 [==============================] - 0s 82ms/step - loss: 0.0439\n",
      "Epoch 22/25\n",
      "2/2 [==============================] - 0s 86ms/step - loss: 0.0389\n",
      "Epoch 23/25\n",
      "2/2 [==============================] - 0s 81ms/step - loss: 0.0334\n",
      "Epoch 24/25\n",
      "2/2 [==============================] - 0s 93ms/step - loss: 0.0256\n",
      "Epoch 25/25\n",
      "2/2 [==============================] - 0s 83ms/step - loss: 0.0311\n"
     ]
    },
    {
     "name": "stderr",
     "output_type": "stream",
     "text": [
      "WARNING:absl:Found untraced functions such as lstm_cell_51_layer_call_and_return_conditional_losses, lstm_cell_51_layer_call_fn, lstm_cell_52_layer_call_and_return_conditional_losses, lstm_cell_52_layer_call_fn, lstm_cell_53_layer_call_and_return_conditional_losses while saving (showing 5 of 15). These functions will not be directly callable after loading.\n",
      "WARNING:absl:Found untraced functions such as lstm_cell_51_layer_call_and_return_conditional_losses, lstm_cell_51_layer_call_fn, lstm_cell_52_layer_call_and_return_conditional_losses, lstm_cell_52_layer_call_fn, lstm_cell_53_layer_call_and_return_conditional_losses while saving (showing 5 of 15). These functions will not be directly callable after loading.\n"
     ]
    },
    {
     "name": "stdout",
     "output_type": "stream",
     "text": [
      "INFO:tensorflow:Assets written to: models/CCIV_nn/assets\n"
     ]
    },
    {
     "name": "stderr",
     "output_type": "stream",
     "text": [
      "INFO:tensorflow:Assets written to: models/CCIV_nn/assets\n"
     ]
    },
    {
     "name": "stdout",
     "output_type": "stream",
     "text": [
      "Epoch 1/25\n",
      "57/57 [==============================] - 10s 82ms/step - loss: 0.0109\n",
      "Epoch 2/25\n",
      "57/57 [==============================] - 5s 84ms/step - loss: 0.0018\n",
      "Epoch 3/25\n",
      "57/57 [==============================] - 5s 86ms/step - loss: 0.0016\n",
      "Epoch 4/25\n",
      "57/57 [==============================] - 5s 86ms/step - loss: 0.0015\n",
      "Epoch 5/25\n",
      "57/57 [==============================] - 5s 86ms/step - loss: 0.0017\n",
      "Epoch 6/25\n",
      "57/57 [==============================] - 5s 88ms/step - loss: 0.0014\n",
      "Epoch 7/25\n",
      "57/57 [==============================] - 5s 87ms/step - loss: 0.0017\n",
      "Epoch 8/25\n",
      "57/57 [==============================] - 5s 87ms/step - loss: 0.0014\n",
      "Epoch 9/25\n",
      "57/57 [==============================] - 5s 84ms/step - loss: 0.0014\n",
      "Epoch 10/25\n",
      "57/57 [==============================] - 5s 86ms/step - loss: 0.0014\n",
      "Epoch 11/25\n",
      "57/57 [==============================] - 5s 86ms/step - loss: 0.0015\n",
      "Epoch 12/25\n",
      "57/57 [==============================] - 5s 86ms/step - loss: 0.0013\n",
      "Epoch 13/25\n",
      "57/57 [==============================] - 5s 87ms/step - loss: 0.0013\n",
      "Epoch 14/25\n",
      "57/57 [==============================] - 5s 86ms/step - loss: 0.0013\n",
      "Epoch 15/25\n",
      "57/57 [==============================] - 5s 85ms/step - loss: 0.0014\n",
      "Epoch 16/25\n",
      "57/57 [==============================] - 5s 87ms/step - loss: 9.6262e-04\n",
      "Epoch 17/25\n",
      "57/57 [==============================] - 5s 83ms/step - loss: 0.0015\n",
      "Epoch 18/25\n",
      "57/57 [==============================] - 5s 83ms/step - loss: 7.7320e-04\n",
      "Epoch 19/25\n",
      "57/57 [==============================] - 5s 85ms/step - loss: 9.0355e-04\n",
      "Epoch 20/25\n",
      "57/57 [==============================] - 5s 85ms/step - loss: 8.2527e-04\n",
      "Epoch 21/25\n",
      "57/57 [==============================] - 5s 85ms/step - loss: 9.1984e-04\n",
      "Epoch 22/25\n",
      "57/57 [==============================] - 5s 83ms/step - loss: 0.0011\n",
      "Epoch 23/25\n",
      "57/57 [==============================] - 5s 85ms/step - loss: 7.8578e-04\n",
      "Epoch 24/25\n",
      "57/57 [==============================] - 5s 84ms/step - loss: 6.4109e-04\n",
      "Epoch 25/25\n",
      "57/57 [==============================] - 5s 84ms/step - loss: 8.4598e-04\n"
     ]
    },
    {
     "name": "stderr",
     "output_type": "stream",
     "text": [
      "WARNING:absl:Found untraced functions such as lstm_cell_54_layer_call_and_return_conditional_losses, lstm_cell_54_layer_call_fn, lstm_cell_55_layer_call_and_return_conditional_losses, lstm_cell_55_layer_call_fn, lstm_cell_56_layer_call_and_return_conditional_losses while saving (showing 5 of 15). These functions will not be directly callable after loading.\n",
      "WARNING:absl:Found untraced functions such as lstm_cell_54_layer_call_and_return_conditional_losses, lstm_cell_54_layer_call_fn, lstm_cell_55_layer_call_and_return_conditional_losses, lstm_cell_55_layer_call_fn, lstm_cell_56_layer_call_and_return_conditional_losses while saving (showing 5 of 15). These functions will not be directly callable after loading.\n"
     ]
    },
    {
     "name": "stdout",
     "output_type": "stream",
     "text": [
      "INFO:tensorflow:Assets written to: models/PLUG_nn/assets\n"
     ]
    },
    {
     "name": "stderr",
     "output_type": "stream",
     "text": [
      "INFO:tensorflow:Assets written to: models/PLUG_nn/assets\n"
     ]
    },
    {
     "name": "stdout",
     "output_type": "stream",
     "text": [
      "Epoch 1/25\n",
      "57/57 [==============================] - 9s 78ms/step - loss: 0.0707\n",
      "Epoch 2/25\n",
      "57/57 [==============================] - 5s 83ms/step - loss: 0.0066\n",
      "Epoch 3/25\n",
      "57/57 [==============================] - 5s 85ms/step - loss: 0.0059\n",
      "Epoch 4/25\n",
      "57/57 [==============================] - 5s 82ms/step - loss: 0.0054\n",
      "Epoch 5/25\n",
      "57/57 [==============================] - 5s 84ms/step - loss: 0.0049\n",
      "Epoch 6/25\n",
      "57/57 [==============================] - 5s 83ms/step - loss: 0.0051\n",
      "Epoch 7/25\n",
      "57/57 [==============================] - 5s 85ms/step - loss: 0.0043\n",
      "Epoch 8/25\n",
      "57/57 [==============================] - 5s 82ms/step - loss: 0.0039\n",
      "Epoch 9/25\n",
      "57/57 [==============================] - 5s 84ms/step - loss: 0.0044\n",
      "Epoch 10/25\n",
      "57/57 [==============================] - 5s 84ms/step - loss: 0.0040\n",
      "Epoch 11/25\n",
      "57/57 [==============================] - 5s 84ms/step - loss: 0.0037\n",
      "Epoch 12/25\n",
      "57/57 [==============================] - 5s 82ms/step - loss: 0.0035\n",
      "Epoch 13/25\n",
      "57/57 [==============================] - 5s 82ms/step - loss: 0.0036\n",
      "Epoch 14/25\n",
      "57/57 [==============================] - 5s 85ms/step - loss: 0.0032\n",
      "Epoch 15/25\n",
      "57/57 [==============================] - 5s 83ms/step - loss: 0.0032\n",
      "Epoch 16/25\n",
      "57/57 [==============================] - 5s 84ms/step - loss: 0.0030\n",
      "Epoch 17/25\n",
      "57/57 [==============================] - 5s 83ms/step - loss: 0.0032\n",
      "Epoch 18/25\n",
      "57/57 [==============================] - 5s 84ms/step - loss: 0.0031\n",
      "Epoch 19/25\n",
      "57/57 [==============================] - 5s 84ms/step - loss: 0.0028\n",
      "Epoch 20/25\n",
      "57/57 [==============================] - 5s 85ms/step - loss: 0.0027\n",
      "Epoch 21/25\n",
      "57/57 [==============================] - 5s 84ms/step - loss: 0.0028\n",
      "Epoch 22/25\n",
      "57/57 [==============================] - 5s 84ms/step - loss: 0.0026\n",
      "Epoch 23/25\n",
      "57/57 [==============================] - 5s 85ms/step - loss: 0.0029\n",
      "Epoch 24/25\n",
      "57/57 [==============================] - 5s 84ms/step - loss: 0.0024\n",
      "Epoch 25/25\n",
      "57/57 [==============================] - 5s 84ms/step - loss: 0.0026\n"
     ]
    },
    {
     "name": "stderr",
     "output_type": "stream",
     "text": [
      "WARNING:absl:Found untraced functions such as lstm_cell_57_layer_call_and_return_conditional_losses, lstm_cell_57_layer_call_fn, lstm_cell_58_layer_call_and_return_conditional_losses, lstm_cell_58_layer_call_fn, lstm_cell_59_layer_call_and_return_conditional_losses while saving (showing 5 of 15). These functions will not be directly callable after loading.\n",
      "WARNING:absl:Found untraced functions such as lstm_cell_57_layer_call_and_return_conditional_losses, lstm_cell_57_layer_call_fn, lstm_cell_58_layer_call_and_return_conditional_losses, lstm_cell_58_layer_call_fn, lstm_cell_59_layer_call_and_return_conditional_losses while saving (showing 5 of 15). These functions will not be directly callable after loading.\n"
     ]
    },
    {
     "name": "stdout",
     "output_type": "stream",
     "text": [
      "INFO:tensorflow:Assets written to: models/Z74.SI_nn/assets\n"
     ]
    },
    {
     "name": "stderr",
     "output_type": "stream",
     "text": [
      "INFO:tensorflow:Assets written to: models/Z74.SI_nn/assets\n"
     ]
    },
    {
     "name": "stdout",
     "output_type": "stream",
     "text": [
      "Epoch 1/25\n",
      "57/57 [==============================] - 9s 80ms/step - loss: 0.0181\n",
      "Epoch 2/25\n",
      "57/57 [==============================] - 5s 82ms/step - loss: 0.0024\n",
      "Epoch 3/25\n",
      "57/57 [==============================] - 5s 83ms/step - loss: 0.0020\n",
      "Epoch 4/25\n",
      "57/57 [==============================] - 5s 86ms/step - loss: 0.0019\n",
      "Epoch 5/25\n",
      "57/57 [==============================] - 5s 86ms/step - loss: 0.0018\n",
      "Epoch 6/25\n",
      "57/57 [==============================] - 5s 85ms/step - loss: 0.0024\n",
      "Epoch 7/25\n",
      "57/57 [==============================] - 5s 87ms/step - loss: 0.0016\n",
      "Epoch 8/25\n",
      "57/57 [==============================] - 5s 89ms/step - loss: 0.0016\n",
      "Epoch 9/25\n",
      "57/57 [==============================] - 5s 88ms/step - loss: 0.0016\n",
      "Epoch 10/25\n",
      "57/57 [==============================] - 5s 91ms/step - loss: 0.0014\n",
      "Epoch 11/25\n",
      "57/57 [==============================] - 5s 91ms/step - loss: 0.0016\n",
      "Epoch 12/25\n",
      "57/57 [==============================] - 5s 88ms/step - loss: 0.0012\n",
      "Epoch 13/25\n",
      "57/57 [==============================] - 5s 88ms/step - loss: 0.0012\n",
      "Epoch 14/25\n",
      "57/57 [==============================] - 5s 91ms/step - loss: 0.0015\n",
      "Epoch 15/25\n",
      "57/57 [==============================] - 5s 91ms/step - loss: 0.0011\n",
      "Epoch 16/25\n",
      "57/57 [==============================] - 5s 90ms/step - loss: 0.0011\n",
      "Epoch 17/25\n",
      "57/57 [==============================] - 5s 90ms/step - loss: 9.4203e-04\n",
      "Epoch 18/25\n",
      "57/57 [==============================] - 5s 89ms/step - loss: 0.0013\n",
      "Epoch 19/25\n",
      "57/57 [==============================] - 5s 88ms/step - loss: 0.0012\n",
      "Epoch 20/25\n",
      "57/57 [==============================] - 5s 89ms/step - loss: 0.0011\n",
      "Epoch 21/25\n",
      "57/57 [==============================] - 5s 88ms/step - loss: 0.0014\n",
      "Epoch 22/25\n",
      "57/57 [==============================] - 5s 90ms/step - loss: 8.1449e-04\n",
      "Epoch 23/25\n",
      "57/57 [==============================] - 5s 88ms/step - loss: 8.9572e-04\n",
      "Epoch 24/25\n",
      "57/57 [==============================] - 5s 90ms/step - loss: 8.6726e-04\n",
      "Epoch 25/25\n",
      "57/57 [==============================] - 5s 90ms/step - loss: 9.2853e-04\n"
     ]
    },
    {
     "name": "stderr",
     "output_type": "stream",
     "text": [
      "WARNING:absl:Found untraced functions such as lstm_cell_60_layer_call_and_return_conditional_losses, lstm_cell_60_layer_call_fn, lstm_cell_61_layer_call_and_return_conditional_losses, lstm_cell_61_layer_call_fn, lstm_cell_62_layer_call_and_return_conditional_losses while saving (showing 5 of 15). These functions will not be directly callable after loading.\n",
      "WARNING:absl:Found untraced functions such as lstm_cell_60_layer_call_and_return_conditional_losses, lstm_cell_60_layer_call_fn, lstm_cell_61_layer_call_and_return_conditional_losses, lstm_cell_61_layer_call_fn, lstm_cell_62_layer_call_and_return_conditional_losses while saving (showing 5 of 15). These functions will not be directly callable after loading.\n"
     ]
    },
    {
     "name": "stdout",
     "output_type": "stream",
     "text": [
      "INFO:tensorflow:Assets written to: models/FCEL_nn/assets\n"
     ]
    },
    {
     "name": "stderr",
     "output_type": "stream",
     "text": [
      "INFO:tensorflow:Assets written to: models/FCEL_nn/assets\n"
     ]
    }
   ],
   "source": [
    "for i in tiks:\n",
    "  save(i)"
   ]
  },
  {
   "cell_type": "code",
   "execution_count": 22,
   "metadata": {
    "executionInfo": {
     "elapsed": 2362,
     "status": "ok",
     "timestamp": 1618750645857,
     "user": {
      "displayName": "Anant Jain",
      "photoUrl": "https://lh3.googleusercontent.com/a-/AOh14Gj6TzxaYbWsxGEJHHG5lOOZbVDn_5erfn044ud_iQ=s64",
      "userId": "03345204549983849081"
     },
     "user_tz": -330
    },
    "id": "eZuoLQ5-ZPul"
   },
   "outputs": [],
   "source": [
    "company = 'RELI'"
   ]
  },
  {
   "cell_type": "code",
   "execution_count": 23,
   "metadata": {
    "executionInfo": {
     "elapsed": 2028,
     "status": "ok",
     "timestamp": 1618750645859,
     "user": {
      "displayName": "Anant Jain",
      "photoUrl": "https://lh3.googleusercontent.com/a-/AOh14Gj6TzxaYbWsxGEJHHG5lOOZbVDn_5erfn044ud_iQ=s64",
      "userId": "03345204549983849081"
     },
     "user_tz": -330
    },
    "id": "zqVVM13UZUv1"
   },
   "outputs": [],
   "source": [
    "start = dt.datetime(2012,1,1)\n",
    "end = dt.datetime.now()"
   ]
  },
  {
   "cell_type": "code",
   "execution_count": 24,
   "metadata": {
    "executionInfo": {
     "elapsed": 1834,
     "status": "ok",
     "timestamp": 1618750649395,
     "user": {
      "displayName": "Anant Jain",
      "photoUrl": "https://lh3.googleusercontent.com/a-/AOh14Gj6TzxaYbWsxGEJHHG5lOOZbVDn_5erfn044ud_iQ=s64",
      "userId": "03345204549983849081"
     },
     "user_tz": -330
    },
    "id": "zCWvpwP-ZagN"
   },
   "outputs": [],
   "source": [
    "data = web.DataReader(company, 'yahoo', start, end)\n",
    "data.to_csv('stk_data.csv',index=True)"
   ]
  },
  {
   "cell_type": "code",
   "execution_count": 25,
   "metadata": {
    "executionInfo": {
     "elapsed": 890,
     "status": "ok",
     "timestamp": 1618750651683,
     "user": {
      "displayName": "Anant Jain",
      "photoUrl": "https://lh3.googleusercontent.com/a-/AOh14Gj6TzxaYbWsxGEJHHG5lOOZbVDn_5erfn044ud_iQ=s64",
      "userId": "03345204549983849081"
     },
     "user_tz": -330
    },
    "id": "ff6Z5HA6g87O"
   },
   "outputs": [],
   "source": [
    "from model import Model"
   ]
  },
  {
   "cell_type": "code",
   "execution_count": null,
   "metadata": {
    "colab": {
     "base_uri": "https://localhost:8080/",
     "height": 282
    },
    "executionInfo": {
     "elapsed": 1017,
     "status": "error",
     "timestamp": 1618750652532,
     "user": {
      "displayName": "Anant Jain",
      "photoUrl": "https://lh3.googleusercontent.com/a-/AOh14Gj6TzxaYbWsxGEJHHG5lOOZbVDn_5erfn044ud_iQ=s64",
      "userId": "03345204549983849081"
     },
     "user_tz": -330
    },
    "id": "v_uc9mbhKKe3",
    "outputId": "0c01c75a-1ba1-400c-fbcb-d8e8a5c9e2b6"
   },
   "outputs": [],
   "source": [
    "nn = Model()"
   ]
  },
  {
   "cell_type": "code",
   "execution_count": 15,
   "metadata": {
    "cellView": "code",
    "colab": {
     "base_uri": "https://localhost:8080/"
    },
    "executionInfo": {
     "elapsed": 142244,
     "status": "ok",
     "timestamp": 1618749643034,
     "user": {
      "displayName": "Anant Jain",
      "photoUrl": "https://lh3.googleusercontent.com/a-/AOh14Gj6TzxaYbWsxGEJHHG5lOOZbVDn_5erfn044ud_iQ=s64",
      "userId": "03345204549983849081"
     },
     "user_tz": -330
    },
    "id": "iv6dFL5DKOme",
    "outputId": "a403f3f3-82ad-4e48-958e-b9a33529a339"
   },
   "outputs": [
    {
     "name": "stdout",
     "output_type": "stream",
     "text": [
      "Epoch 1/25\n",
      "57/57 [==============================] - 9s 77ms/step - loss: 0.0657\n",
      "Epoch 2/25\n",
      "57/57 [==============================] - 4s 78ms/step - loss: 0.0037\n",
      "Epoch 3/25\n",
      "57/57 [==============================] - 5s 81ms/step - loss: 0.0028\n",
      "Epoch 4/25\n",
      "57/57 [==============================] - 5s 85ms/step - loss: 0.0029\n",
      "Epoch 5/25\n",
      "57/57 [==============================] - 5s 84ms/step - loss: 0.0029\n",
      "Epoch 6/25\n",
      "57/57 [==============================] - 5s 87ms/step - loss: 0.0029\n",
      "Epoch 7/25\n",
      "57/57 [==============================] - 5s 89ms/step - loss: 0.0026\n",
      "Epoch 8/25\n",
      "57/57 [==============================] - 5s 86ms/step - loss: 0.0023\n",
      "Epoch 9/25\n",
      "57/57 [==============================] - 5s 87ms/step - loss: 0.0023\n",
      "Epoch 10/25\n",
      "57/57 [==============================] - 5s 85ms/step - loss: 0.0021\n",
      "Epoch 11/25\n",
      "57/57 [==============================] - 5s 83ms/step - loss: 0.0023\n",
      "Epoch 12/25\n",
      "57/57 [==============================] - 5s 86ms/step - loss: 0.0018\n",
      "Epoch 13/25\n",
      "57/57 [==============================] - 5s 87ms/step - loss: 0.0021\n",
      "Epoch 14/25\n",
      "57/57 [==============================] - 5s 85ms/step - loss: 0.0019\n",
      "Epoch 15/25\n",
      "57/57 [==============================] - 5s 88ms/step - loss: 0.0021\n",
      "Epoch 16/25\n",
      "57/57 [==============================] - 5s 88ms/step - loss: 0.0017\n",
      "Epoch 17/25\n",
      "57/57 [==============================] - 5s 88ms/step - loss: 0.0021\n",
      "Epoch 18/25\n",
      "57/57 [==============================] - 5s 87ms/step - loss: 0.0018\n",
      "Epoch 19/25\n",
      "57/57 [==============================] - 5s 88ms/step - loss: 0.0018\n",
      "Epoch 20/25\n",
      "57/57 [==============================] - 5s 88ms/step - loss: 0.0017\n",
      "Epoch 21/25\n",
      "57/57 [==============================] - 5s 91ms/step - loss: 0.0017\n",
      "Epoch 22/25\n",
      "57/57 [==============================] - 5s 89ms/step - loss: 0.0016\n",
      "Epoch 23/25\n",
      "57/57 [==============================] - 5s 88ms/step - loss: 0.0015\n",
      "Epoch 24/25\n",
      "57/57 [==============================] - 5s 89ms/step - loss: 0.0013\n",
      "Epoch 25/25\n",
      "57/57 [==============================] - 5s 87ms/step - loss: 0.0017\n"
     ]
    },
    {
     "name": "stderr",
     "output_type": "stream",
     "text": [
      "WARNING:absl:Found untraced functions such as lstm_cell_3_layer_call_and_return_conditional_losses, lstm_cell_3_layer_call_fn, lstm_cell_4_layer_call_and_return_conditional_losses, lstm_cell_4_layer_call_fn, lstm_cell_5_layer_call_and_return_conditional_losses while saving (showing 5 of 15). These functions will not be directly callable after loading.\n",
      "WARNING:absl:Found untraced functions such as lstm_cell_3_layer_call_and_return_conditional_losses, lstm_cell_3_layer_call_fn, lstm_cell_4_layer_call_and_return_conditional_losses, lstm_cell_4_layer_call_fn, lstm_cell_5_layer_call_and_return_conditional_losses while saving (showing 5 of 15). These functions will not be directly callable after loading.\n"
     ]
    },
    {
     "name": "stdout",
     "output_type": "stream",
     "text": [
      "INFO:tensorflow:Assets written to: models/AAPL_nn/assets\n"
     ]
    },
    {
     "name": "stderr",
     "output_type": "stream",
     "text": [
      "INFO:tensorflow:Assets written to: models/AAPL_nn/assets\n"
     ]
    }
   ],
   "source": [
    "seq = nn.create()\n",
    "seq.save(f'models/{company}_nn')"
   ]
  },
  {
   "cell_type": "code",
   "execution_count": 9,
   "metadata": {
    "executionInfo": {
     "elapsed": 7960,
     "status": "ok",
     "timestamp": 1618748153738,
     "user": {
      "displayName": "Anant Jain",
      "photoUrl": "https://lh3.googleusercontent.com/a-/AOh14Gj6TzxaYbWsxGEJHHG5lOOZbVDn_5erfn044ud_iQ=s64",
      "userId": "03345204549983849081"
     },
     "user_tz": -330
    },
    "id": "FhkvL_b-je58"
   },
   "outputs": [],
   "source": [
    "from tensorflow import keras\n",
    "model = keras.models.load_model('stock_smart')"
   ]
  },
  {
   "cell_type": "code",
   "execution_count": 11,
   "metadata": {
    "executionInfo": {
     "elapsed": 2813,
     "status": "ok",
     "timestamp": 1618748166084,
     "user": {
      "displayName": "Anant Jain",
      "photoUrl": "https://lh3.googleusercontent.com/a-/AOh14Gj6TzxaYbWsxGEJHHG5lOOZbVDn_5erfn044ud_iQ=s64",
      "userId": "03345204549983849081"
     },
     "user_tz": -330
    },
    "id": "MDm0G7ROKerl"
   },
   "outputs": [],
   "source": [
    "nn.predict(model)"
   ]
  },
  {
   "cell_type": "code",
   "execution_count": 12,
   "metadata": {
    "colab": {
     "base_uri": "https://localhost:8080/"
    },
    "executionInfo": {
     "elapsed": 2242,
     "status": "ok",
     "timestamp": 1618748171569,
     "user": {
      "displayName": "Anant Jain",
      "photoUrl": "https://lh3.googleusercontent.com/a-/AOh14Gj6TzxaYbWsxGEJHHG5lOOZbVDn_5erfn044ud_iQ=s64",
      "userId": "03345204549983849081"
     },
     "user_tz": -330
    },
    "id": "GEQ1BP8xLOGr",
    "outputId": "e60c5cf6-11be-4eab-b4a8-5561940343b0"
   },
   "outputs": [
    {
     "name": "stdout",
     "output_type": "stream",
     "text": [
      "WARNING:tensorflow:Model was constructed with shape (None, 60, 1) for input KerasTensor(type_spec=TensorSpec(shape=(None, 60, 1), dtype=tf.float32, name='lstm_input'), name='lstm_input', description=\"created by layer 'lstm_input'\"), but it was called on an input with incompatible shape (None, 59, 1).\n"
     ]
    },
    {
     "name": "stderr",
     "output_type": "stream",
     "text": [
      "WARNING:tensorflow:Model was constructed with shape (None, 60, 1) for input KerasTensor(type_spec=TensorSpec(shape=(None, 60, 1), dtype=tf.float32, name='lstm_input'), name='lstm_input', description=\"created by layer 'lstm_input'\"), but it was called on an input with incompatible shape (None, 59, 1).\n"
     ]
    },
    {
     "data": {
      "text/plain": [
       "{'prediction': array([[290.49545]], dtype=float32), 'r2': 0.9081610035271611}"
      ]
     },
     "execution_count": 12,
     "metadata": {
      "tags": []
     },
     "output_type": "execute_result"
    }
   ],
   "source": [
    "nn.results()"
   ]
  },
  {
   "cell_type": "code",
   "execution_count": 35,
   "metadata": {
    "colab": {
     "base_uri": "https://localhost:8080/"
    },
    "executionInfo": {
     "elapsed": 2513,
     "status": "ok",
     "timestamp": 1618753740864,
     "user": {
      "displayName": "Anant Jain",
      "photoUrl": "https://lh3.googleusercontent.com/a-/AOh14Gj6TzxaYbWsxGEJHHG5lOOZbVDn_5erfn044ud_iQ=s64",
      "userId": "03345204549983849081"
     },
     "user_tz": -330
    },
    "id": "fZnpO0Ryo8oe",
    "outputId": "c7eb2d9a-8064-4c98-e38e-4a3e8ee0d1a4"
   },
   "outputs": [
    {
     "name": "stdout",
     "output_type": "stream",
     "text": [
      "  adding: models/ (stored 0%)\n",
      "  adding: models/FCEL_nn/ (stored 0%)\n",
      "  adding: models/FCEL_nn/assets/ (stored 0%)\n",
      "  adding: models/FCEL_nn/saved_model.pb (deflated 90%)\n",
      "  adding: models/FCEL_nn/variables/ (stored 0%)\n",
      "  adding: models/FCEL_nn/variables/variables.data-00000-of-00001 (deflated 7%)\n",
      "  adding: models/FCEL_nn/variables/variables.index (deflated 67%)\n",
      "  adding: models/TTC_nn/ (stored 0%)\n",
      "  adding: models/TTC_nn/assets/ (stored 0%)\n",
      "  adding: models/TTC_nn/saved_model.pb (deflated 90%)\n",
      "  adding: models/TTC_nn/variables/ (stored 0%)\n",
      "  adding: models/TTC_nn/variables/variables.data-00000-of-00001 (deflated 7%)\n",
      "  adding: models/TTC_nn/variables/variables.index (deflated 67%)\n",
      "  adding: models/DOGE-USD_nn/ (stored 0%)\n",
      "  adding: models/DOGE-USD_nn/assets/ (stored 0%)\n",
      "  adding: models/DOGE-USD_nn/saved_model.pb (deflated 90%)\n",
      "  adding: models/DOGE-USD_nn/variables/ (stored 0%)\n",
      "  adding: models/DOGE-USD_nn/variables/variables.data-00000-of-00001 (deflated 7%)\n",
      "  adding: models/DOGE-USD_nn/variables/variables.index (deflated 67%)\n",
      "  adding: models/AAPL_nn/ (stored 0%)\n",
      "  adding: models/AAPL_nn/assets/ (stored 0%)\n",
      "  adding: models/AAPL_nn/saved_model.pb (deflated 90%)\n",
      "  adding: models/AAPL_nn/variables/ (stored 0%)\n",
      "  adding: models/AAPL_nn/variables/variables.data-00000-of-00001 (deflated 7%)\n",
      "  adding: models/AAPL_nn/variables/variables.index (deflated 67%)\n",
      "  adding: models/NFLX_nn/ (stored 0%)\n",
      "  adding: models/NFLX_nn/assets/ (stored 0%)\n",
      "  adding: models/NFLX_nn/saved_model.pb (deflated 90%)\n",
      "  adding: models/NFLX_nn/variables/ (stored 0%)\n",
      "  adding: models/NFLX_nn/variables/variables.data-00000-of-00001 (deflated 7%)\n",
      "  adding: models/NFLX_nn/variables/variables.index (deflated 67%)\n",
      "  adding: models/ETC-USD_nn/ (stored 0%)\n",
      "  adding: models/ETC-USD_nn/assets/ (stored 0%)\n",
      "  adding: models/ETC-USD_nn/saved_model.pb (deflated 90%)\n",
      "  adding: models/ETC-USD_nn/variables/ (stored 0%)\n",
      "  adding: models/ETC-USD_nn/variables/variables.data-00000-of-00001 (deflated 7%)\n",
      "  adding: models/ETC-USD_nn/variables/variables.index (deflated 67%)\n",
      "  adding: models/MSFT_nn/ (stored 0%)\n",
      "  adding: models/MSFT_nn/assets/ (stored 0%)\n",
      "  adding: models/MSFT_nn/saved_model.pb (deflated 90%)\n",
      "  adding: models/MSFT_nn/variables/ (stored 0%)\n",
      "  adding: models/MSFT_nn/variables/variables.data-00000-of-00001 (deflated 7%)\n",
      "  adding: models/MSFT_nn/variables/variables.index (deflated 67%)\n",
      "  adding: models/BCH-USD_nn/ (stored 0%)\n",
      "  adding: models/BCH-USD_nn/assets/ (stored 0%)\n",
      "  adding: models/BCH-USD_nn/saved_model.pb (deflated 91%)\n",
      "  adding: models/BCH-USD_nn/variables/ (stored 0%)\n",
      "  adding: models/BCH-USD_nn/variables/variables.data-00000-of-00001 (deflated 7%)\n",
      "  adding: models/BCH-USD_nn/variables/variables.index (deflated 67%)\n",
      "  adding: models/WIPRO.NS_nn/ (stored 0%)\n",
      "  adding: models/WIPRO.NS_nn/assets/ (stored 0%)\n",
      "  adding: models/WIPRO.NS_nn/saved_model.pb (deflated 90%)\n",
      "  adding: models/WIPRO.NS_nn/variables/ (stored 0%)\n",
      "  adding: models/WIPRO.NS_nn/variables/variables.data-00000-of-00001 (deflated 7%)\n",
      "  adding: models/WIPRO.NS_nn/variables/variables.index (deflated 67%)\n",
      "  adding: models/Z74.SI_nn/ (stored 0%)\n",
      "  adding: models/Z74.SI_nn/assets/ (stored 0%)\n",
      "  adding: models/Z74.SI_nn/saved_model.pb (deflated 90%)\n",
      "  adding: models/Z74.SI_nn/variables/ (stored 0%)\n",
      "  adding: models/Z74.SI_nn/variables/variables.data-00000-of-00001 (deflated 7%)\n",
      "  adding: models/Z74.SI_nn/variables/variables.index (deflated 67%)\n",
      "  adding: models/QS_nn/ (stored 0%)\n",
      "  adding: models/QS_nn/assets/ (stored 0%)\n",
      "  adding: models/QS_nn/saved_model.pb (deflated 90%)\n",
      "  adding: models/QS_nn/variables/ (stored 0%)\n",
      "  adding: models/QS_nn/variables/variables.data-00000-of-00001 (deflated 7%)\n",
      "  adding: models/QS_nn/variables/variables.index (deflated 67%)\n",
      "  adding: models/PLUG_nn/ (stored 0%)\n",
      "  adding: models/PLUG_nn/assets/ (stored 0%)\n",
      "  adding: models/PLUG_nn/saved_model.pb (deflated 90%)\n",
      "  adding: models/PLUG_nn/variables/ (stored 0%)\n",
      "  adding: models/PLUG_nn/variables/variables.data-00000-of-00001 (deflated 7%)\n",
      "  adding: models/PLUG_nn/variables/variables.index (deflated 67%)\n",
      "  adding: models/NVDA_nn/ (stored 0%)\n",
      "  adding: models/NVDA_nn/assets/ (stored 0%)\n",
      "  adding: models/NVDA_nn/saved_model.pb (deflated 90%)\n",
      "  adding: models/NVDA_nn/variables/ (stored 0%)\n",
      "  adding: models/NVDA_nn/variables/variables.data-00000-of-00001 (deflated 7%)\n",
      "  adding: models/NVDA_nn/variables/variables.index (deflated 67%)\n",
      "  adding: models/AMZN_nn/ (stored 0%)\n",
      "  adding: models/AMZN_nn/assets/ (stored 0%)\n",
      "  adding: models/AMZN_nn/saved_model.pb (deflated 90%)\n",
      "  adding: models/AMZN_nn/variables/ (stored 0%)\n",
      "  adding: models/AMZN_nn/variables/variables.data-00000-of-00001 (deflated 7%)\n",
      "  adding: models/AMZN_nn/variables/variables.index (deflated 67%)\n",
      "  adding: models/GOOG_nn/ (stored 0%)\n",
      "  adding: models/GOOG_nn/assets/ (stored 0%)\n",
      "  adding: models/GOOG_nn/saved_model.pb (deflated 90%)\n",
      "  adding: models/GOOG_nn/variables/ (stored 0%)\n",
      "  adding: models/GOOG_nn/variables/variables.data-00000-of-00001 (deflated 7%)\n",
      "  adding: models/GOOG_nn/variables/variables.index (deflated 67%)\n",
      "  adding: models/SPCE_nn/ (stored 0%)\n",
      "  adding: models/SPCE_nn/assets/ (stored 0%)\n",
      "  adding: models/SPCE_nn/saved_model.pb (deflated 90%)\n",
      "  adding: models/SPCE_nn/variables/ (stored 0%)\n",
      "  adding: models/SPCE_nn/variables/variables.data-00000-of-00001 (deflated 7%)\n",
      "  adding: models/SPCE_nn/variables/variables.index (deflated 67%)\n",
      "  adding: models/DOGE-INR_nn/ (stored 0%)\n",
      "  adding: models/DOGE-INR_nn/assets/ (stored 0%)\n",
      "  adding: models/DOGE-INR_nn/saved_model.pb (deflated 91%)\n",
      "  adding: models/DOGE-INR_nn/variables/ (stored 0%)\n",
      "  adding: models/DOGE-INR_nn/variables/variables.data-00000-of-00001 (deflated 7%)\n",
      "  adding: models/DOGE-INR_nn/variables/variables.index (deflated 67%)\n",
      "  adding: models/FB_nn/ (stored 0%)\n",
      "  adding: models/FB_nn/assets/ (stored 0%)\n",
      "  adding: models/FB_nn/saved_model.pb (deflated 91%)\n",
      "  adding: models/FB_nn/variables/ (stored 0%)\n",
      "  adding: models/FB_nn/variables/variables.data-00000-of-00001 (deflated 7%)\n",
      "  adding: models/FB_nn/variables/variables.index (deflated 67%)\n",
      "  adding: models/TTM_nn/ (stored 0%)\n",
      "  adding: models/TTM_nn/assets/ (stored 0%)\n",
      "  adding: models/TTM_nn/saved_model.pb (deflated 90%)\n",
      "  adding: models/TTM_nn/variables/ (stored 0%)\n",
      "  adding: models/TTM_nn/variables/variables.data-00000-of-00001 (deflated 7%)\n",
      "  adding: models/TTM_nn/variables/variables.index (deflated 67%)\n",
      "  adding: models/CCIV_nn/ (stored 0%)\n",
      "  adding: models/CCIV_nn/assets/ (stored 0%)\n",
      "  adding: models/CCIV_nn/saved_model.pb (deflated 90%)\n",
      "  adding: models/CCIV_nn/variables/ (stored 0%)\n",
      "  adding: models/CCIV_nn/variables/variables.data-00000-of-00001 (deflated 7%)\n",
      "  adding: models/CCIV_nn/variables/variables.index (deflated 67%)\n",
      "  adding: models/TSLA_nn/ (stored 0%)\n",
      "  adding: models/TSLA_nn/assets/ (stored 0%)\n",
      "  adding: models/TSLA_nn/saved_model.pb (deflated 90%)\n",
      "  adding: models/TSLA_nn/variables/ (stored 0%)\n",
      "  adding: models/TSLA_nn/variables/variables.data-00000-of-00001 (deflated 7%)\n",
      "  adding: models/TSLA_nn/variables/variables.index (deflated 67%)\n"
     ]
    }
   ],
   "source": [
    "!zip -r ./models.zip ./models"
   ]
  },
  {
   "cell_type": "code",
   "execution_count": null,
   "metadata": {
    "id": "6W1Zg6gz70ep"
   },
   "outputs": [],
   "source": []
  }
 ],
 "metadata": {
  "colab": {
   "authorship_tag": "ABX9TyM4YMnYtiwpjiEiAVTGnjQu",
   "collapsed_sections": [],
   "name": "sequential_model.ipynb",
   "provenance": []
  },
  "kernelspec": {
   "display_name": "Python 3",
   "name": "python3"
  },
  "language_info": {
   "name": "python"
  }
 },
 "nbformat": 4,
 "nbformat_minor": 0
}
