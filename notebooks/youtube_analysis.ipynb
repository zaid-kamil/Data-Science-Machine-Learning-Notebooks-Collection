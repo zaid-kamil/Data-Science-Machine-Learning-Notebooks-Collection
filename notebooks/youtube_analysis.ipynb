{
 "cells": [
  {
   "cell_type": "code",
   "execution_count": 0,
   "metadata": {
    "colab": {
     "autoexec": {
      "startup": false,
      "wait_interval": 0
     }
    },
    "colab_type": "code",
    "id": "6nVUiVHqJ9hQ"
   },
   "outputs": [],
   "source": [
    "\n",
    "from apiclient.discovery import build\n",
    "from apiclient.errors import HttpError\n",
    "from oauth2client.tools import argparser\n",
    "import pandas as pd\n",
    "import pprint \n",
    "import matplotlib.pyplot as pd\n",
    "import seaborn as sns"
   ]
  },
  {
   "cell_type": "code",
   "execution_count": 0,
   "metadata": {
    "colab": {
     "autoexec": {
      "startup": false,
      "wait_interval": 0
     }
    },
    "colab_type": "code",
    "id": "e7JB5I-0Q6i8"
   },
   "outputs": [],
   "source": [
    "DEVELOPER_KEY = \"xxxxxxxxxxxxxxxxxxxxxxxxxxxx\"\n",
    "YOUTUBE_API_SERVICE_NAME = \"youtube\"\n",
    "YOUTUBE_API_VERSION = \"v3\"\n"
   ]
  },
  {
   "cell_type": "code",
   "execution_count": 0,
   "metadata": {
    "colab": {
     "autoexec": {
      "startup": false,
      "wait_interval": 0
     }
    },
    "colab_type": "code",
    "id": "OcyDVbpfRnrV"
   },
   "outputs": [],
   "source": [
    "def youtube_search(q, max_results=50,order=\"relevance\", token=None, location=None, location_radius=None):\n",
    "\n",
    "    youtube = build(YOUTUBE_API_SERVICE_NAME, YOUTUBE_API_VERSION,developerKey=DEVELOPER_KEY)\n",
    "\n",
    "    search_response = youtube.search().list(\n",
    "    q=q,\n",
    "    type=\"video\",\n",
    "    pageToken=token,\n",
    "    order = order,\n",
    "    part=\"id,snippet\", # Part signifies the different types of data you want \n",
    "    maxResults=max_results,\n",
    "    location=location,\n",
    "    locationRadius=location_radius).execute()\n",
    "\n",
    "    title = []\n",
    "    channelId = []\n",
    "    channelTitle = []\n",
    "    categoryId = []\n",
    "    videoId = []\n",
    "    viewCount = []\n",
    "    likeCount = []\n",
    "    dislikeCount = []\n",
    "    commentCount = []\n",
    "    favoriteCount = []\n",
    "    category = []\n",
    "    tags = []\n",
    "    videos = []\n",
    "    \n",
    "    for search_result in search_response.get(\"items\", []):\n",
    "    \tif search_result[\"id\"][\"kind\"] == \"youtube#video\":\n",
    "\n",
    "            title.append(search_result['snippet']['title']) \n",
    "\n",
    "            videoId.append(search_result['id']['videoId'])\n",
    "\n",
    "            response = youtube.videos().list(\n",
    "                part='statistics, snippet',\n",
    "                id=search_result['id']['videoId']).execute()\n",
    "\n",
    "            channelId.append(response['items'][0]['snippet']['channelId'])\n",
    "            channelTitle.append(response['items'][0]['snippet']['channelTitle'])\n",
    "            categoryId.append(response['items'][0]['snippet']['categoryId'])\n",
    "            favoriteCount.append(response['items'][0]['statistics']['favoriteCount'])\n",
    "            viewCount.append(response['items'][0]['statistics']['viewCount'])\n",
    "            likeCount.append(response['items'][0]['statistics']['likeCount'])\n",
    "            dislikeCount.append(response['items'][0]['statistics']['dislikeCount'])\n",
    " \n",
    "        if 'commentCount' in response['items'][0]['statistics'].keys():\n",
    "            commentCount.append(response['items'][0]['statistics']['commentCount'])\n",
    "        else:\n",
    "            commentCount.append([])\n",
    "\t  \n",
    "        if 'tags' in response['items'][0]['snippet'].keys():\n",
    "            tags.append(response['items'][0]['snippet']['tags'])\n",
    "        else:\n",
    "            tags.append([])\n",
    "\n",
    "    youtube_dict = {'tags':tags,\n",
    "                    'channelId': channelId,\n",
    "                    'channelTitle': channelTitle,\n",
    "                    'categoryId':categoryId,\n",
    "                    'title':title,\n",
    "                    'videoId':videoId,\n",
    "                    'viewCount':viewCount,\n",
    "                    'likeCount':likeCount,\n",
    "                    'dislikeCount':dislikeCount,\n",
    "                    'commentCount':commentCount,\n",
    "                    'favoriteCount':favoriteCount}\n",
    "\n",
    "    return youtube_dict"
   ]
  },
  {
   "cell_type": "code",
   "execution_count": 0,
   "metadata": {
    "colab": {
     "autoexec": {
      "startup": false,
      "wait_interval": 0
     }
    },
    "colab_type": "code",
    "id": "Pe_mmsBNR-wa"
   },
   "outputs": [],
   "source": [
    "test = youtube_search(\"Fortnite\")\n",
    "test.keys()"
   ]
  },
  {
   "cell_type": "code",
   "execution_count": 0,
   "metadata": {
    "colab": {
     "autoexec": {
      "startup": false,
      "wait_interval": 0
     }
    },
    "colab_type": "code",
    "id": "c8MuGNkaSdPa"
   },
   "outputs": [],
   "source": [
    "import pandas as pd"
   ]
  },
  {
   "cell_type": "code",
   "execution_count": 0,
   "metadata": {
    "colab": {
     "autoexec": {
      "startup": false,
      "wait_interval": 0
     }
    },
    "colab_type": "code",
    "id": "4dZ0CTg2S09Y"
   },
   "outputs": [],
   "source": [
    "df=pd.DataFrame(data=test)"
   ]
  },
  {
   "cell_type": "code",
   "execution_count": 0,
   "metadata": {
    "colab": {
     "autoexec": {
      "startup": false,
      "wait_interval": 0
     }
    },
    "colab_type": "code",
    "id": "WiDT4QbXTpFd"
   },
   "outputs": [],
   "source": [
    "df.info()"
   ]
  },
  {
   "cell_type": "code",
   "execution_count": 0,
   "metadata": {
    "colab": {
     "autoexec": {
      "startup": false,
      "wait_interval": 0
     }
    },
    "colab_type": "code",
    "id": "589TUojzTv6j"
   },
   "outputs": [],
   "source": [
    "youtube = build(YOUTUBE_API_SERVICE_NAME, YOUTUBE_API_VERSION,developerKey=DEVELOPER_KEY)"
   ]
  },
  {
   "cell_type": "code",
   "execution_count": 0,
   "metadata": {
    "colab": {
     "autoexec": {
      "startup": false,
      "wait_interval": 0
     }
    },
    "colab_type": "code",
    "id": "20ht0z2mdB5U"
   },
   "outputs": [],
   "source": []
  },
  {
   "cell_type": "code",
   "execution_count": 0,
   "metadata": {
    "colab": {
     "autoexec": {
      "startup": false,
      "wait_interval": 0
     }
    },
    "colab_type": "code",
    "id": "5kU_Z_YMdKl8"
   },
   "outputs": [],
   "source": []
  },
  {
   "cell_type": "code",
   "execution_count": 0,
   "metadata": {
    "colab": {
     "autoexec": {
      "startup": false,
      "wait_interval": 0
     }
    },
    "colab_type": "code",
    "id": "MU7vjFzxdUOX"
   },
   "outputs": [],
   "source": []
  }
 ],
 "metadata": {
  "colab": {
   "collapsed_sections": [],
   "default_view": {},
   "name": "Youtube Analysis",
   "private_outputs": true,
   "provenance": [],
   "version": "0.3.2",
   "views": {}
  },
  "language_info": {
   "name": "python"
  }
 },
 "nbformat": 4,
 "nbformat_minor": 0
}
