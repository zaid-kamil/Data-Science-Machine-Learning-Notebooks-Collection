{
 "cells": [
  {
   "cell_type": "code",
   "execution_count": 0,
   "metadata": {
    "colab": {},
    "colab_type": "code",
    "id": "_T0Xan5q8U7x"
   },
   "outputs": [],
   "source": [
    "import requests\n",
    "from bs4 import BeautifulSoup"
   ]
  },
  {
   "cell_type": "code",
   "execution_count": 0,
   "metadata": {
    "colab": {},
    "colab_type": "code",
    "id": "siHSUt698br3"
   },
   "outputs": [],
   "source": [
    "url =\"https://www.imdb.com/news/top?ref_=nv_nw_tp\"\n",
    "url2= \"https://www.fonearena.com/blog/\""
   ]
  },
  {
   "cell_type": "code",
   "execution_count": 0,
   "metadata": {
    "colab": {},
    "colab_type": "code",
    "id": "YopBwq2r8dH2"
   },
   "outputs": [],
   "source": [
    "def get_data(url):\n",
    "    try:\n",
    "        page = requests.get(url)\n",
    "        if page.status_code == 200:\n",
    "            return page.text\n",
    "        else:\n",
    "            print(page.status_code)\n",
    "            return None\n",
    "    except Exception as e:\n",
    "        print(e)"
   ]
  },
  {
   "cell_type": "code",
   "execution_count": 0,
   "metadata": {
    "colab": {},
    "colab_type": "code",
    "id": "04T9lgs28mgn"
   },
   "outputs": [],
   "source": [
    "data=get_data(url)\n",
    "soup = BeautifulSoup(data,'lxml')"
   ]
  },
  {
   "cell_type": "code",
   "execution_count": 34,
   "metadata": {
    "colab": {
     "base_uri": "https://localhost:8080/",
     "height": 357
    },
    "colab_type": "code",
    "executionInfo": {
     "elapsed": 1003,
     "status": "ok",
     "timestamp": 1547755309622,
     "user": {
      "displayName": "StormlightX",
      "photoUrl": "https://lh5.googleusercontent.com/-1l4qBYOTOdk/AAAAAAAAAAI/AAAAAAAAWlA/lB3vfUQBD2Y/s64/photo.jpg",
      "userId": "04862885639735295114"
     },
     "user_tz": -330
    },
    "id": "M1QQTNTI8plv",
    "outputId": "64d97dde-4525-4952-a821-82b5d260c4c5"
   },
   "outputs": [
    {
     "data": {
      "text/plain": [
       "['\\n\"Vikings\" Alum Travis Fimmel Among 10 Cast in TNT Drama \"Raised by Wolves\"\\n',\n",
       " '\\nKevin Hart to Star in ‘Monopoly’ Movie for Lionsgate, Hasbro\\n',\n",
       " '\\nPeter Sarsgaard to Star in CBS All Access True-Crime Drama ‘Interrogation’\\n',\n",
       " '\\nSXSW to Premiere Harmony Korine’s ‘Beach Bum,’ Seth Rogen Comedy, Kathy Griffin Concert Film\\n',\n",
       " '\\nHeidi Klum and Tim Gunn Start Casting for New Amazon Series\\n',\n",
       " '\\nAnne Hathaway to Star in Robert Zemeckis’ ‘The Witches’ (Exclusive)\\n',\n",
       " '\\nJ.R.R. Tolkien Biopic With Nicholas Hoult Gets Summer 2019 Release Date\\n',\n",
       " '\\nFrench Films’s Overseas B.O. Revenue Drops 51% in 2018\\n',\n",
       " '\\nDeerhunter’s Golden Years\\n',\n",
       " '\\nInside Governor Andrew Cuomo’s Plan to Legalize Weed in New York\\n',\n",
       " '\\n‘Black Mirror: Bandersnatch’ Has 5 Main Endings – Here’s What They Are\\n',\n",
       " '\\nCale Tyson Gets Confessional in New Song ‘Red Blooded Fools’\\n',\n",
       " '\\n‘Carmen Sandiego’ Bosses Talk ‘International Environment,’ Rita Moreno’s Involvement in Netflix Reboot\\n',\n",
       " '\\nUSA Network Gives Its Gina Torres-Led ‘Suits’ Spinoff a Title\\n',\n",
       " '\\nFuture Changed Rap for a Generation. He Doesn’t Know How to Feel About It\\n',\n",
       " '\\nKiss Detail First Club Show in Over Two Decades\\n',\n",
       " '\\nJames Blake Recruits Travis Scott, Metro Boomin for ‘Mile High’\\n',\n",
       " '\\n‘True Detective’ Season 3: The Main Suspects So Far\\n',\n",
       " '\\nNetflix Casts Starry Ensemble for Adaptation of John Green’s ‘Let It Snow’\\n',\n",
       " '\\nShameik Moore, Kiernan Shipka, Joan Cusack Cast of Netflix Film ‘Let it Snow’\\n']"
      ]
     },
     "execution_count": 34,
     "metadata": {
      "tags": []
     },
     "output_type": "execute_result"
    }
   ],
   "source": [
    "[title.text for title in soup.find_all('h2',attrs={'class':'news-article__title'})]"
   ]
  },
  {
   "cell_type": "code",
   "execution_count": 47,
   "metadata": {
    "colab": {
     "base_uri": "https://localhost:8080/",
     "height": 377
    },
    "colab_type": "code",
    "executionInfo": {
     "elapsed": 1249,
     "status": "ok",
     "timestamp": 1547755903975,
     "user": {
      "displayName": "StormlightX",
      "photoUrl": "https://lh5.googleusercontent.com/-1l4qBYOTOdk/AAAAAAAAAAI/AAAAAAAAWlA/lB3vfUQBD2Y/s64/photo.jpg",
      "userId": "04862885639735295114"
     },
     "user_tz": -330
    },
    "id": "tEVnOHOBZAs3",
    "outputId": "547b85b0-4aea-4bad-a40a-4176ee8bdbdf"
   },
   "outputs": [
    {
     "name": "stdout",
     "output_type": "stream",
     "text": [
      "TNT has set 10 cast members for the Ridley Scott-produced drama “Raised by Wolves.”The show, which was ordered straight-to-series in October, centers on two androids tasked with raising human children on a mysterious virgin planet. As the burgeoning colony of humans threatens to be torn apart by religious differences, the androids learn that controlling the beliefs of humans is a treacherous and difficult task.The cast includes:—Amanda Collin will play Mother, an android with a secret past who has been programmed to raise a brood of human children on a faraway planet. In addition to teaching her children to survive,\n",
      "Kevin Hart isn’t hosting the Oscars, but he will be putting on a top hat and tuxedo very soon.Hart is in final negotiations to star in Lionsgate’s and Hasbro’s movie based on the board game “Monopoly,” and Tim Story, Hart’s longtime collaborator on “Ride Along” and other stand-up specials, is in final negotiations to direct, an individual with knowledge of the project told TheWrap.Hart will also produce through his HartBeat Productions label. HartBeat’s John Cheng will also produce and HartBeat’s Carli Haney will oversee with John Cheng. Story will produce as well through his The Story Company banner. Sharla Sumpter Bridgett, President of The Story Company, will also produce.The logline is under wraps, but the film is inspired by Hasbro’s popular board game franchise. Hasbro\n",
      "Peter Sarsgaard will star in “Interrogation,” CBS All Access’s true-crime drama.Co-created by Anders Weidemann and John Mankiewicz, “Interrogation” is based on a true story that spanned more than 30 years, in which a young man was charged and convicted of brutally murdering his mother. Each episode is structured around an interrogation taken directly from the real police case files. The first nine episodes of the series will be available to watch in any order, with the conclusive season finale to be released at a later date.\n",
      "The 26th edition of the SXSW Film Festival will feature movies directed by Harmony Korine and Olivia Colman, an untitled romantic comedy starring Seth Rogen and Charlize Theron and a concert film with comedian Kathy Griffin.The annual gathering in Austin, Texas, which starts on March 8, will open with Jordan Peele’s “Us,” which was previously announced. The thriller stars Lupita Nyong’o, Winston Duke and Elisabeth Moss.There will be 102 features and TV episodes featured over nine days.\n",
      "We’re getting a few more hints about Heidi Klum and Tim Gunn’s top-secret fashion project for Amazon Studios.Casting calls have gone out for designers interested in being a part of the unscripted series, which is set to shoot in Los Angeles in June and July. The casting notice mentions the “potential for additional travel for up to two weeks at a later date in 2019.” Klum made the announcement herself in a video posted to Instagram last week.Interested candidates are asked to submit a two-to-four-minute introductory video, two photos “showing your own personal style,” and a link\n",
      "Anne Hathaway has closed a deal to star as the Grand High Witch in Robert Zemeckis and Warner Bros.’ “The Witches” adaptation.Variety first reported that Hathaway was holding the offer for both that and “Sesame Street,” and at the time, scheduling for both films were holding up dealmaking. With those issues settled, Hathaway is now set to star in the role originally portrayed by Anjelica Huston in the 1990 classic.Based on the 1973 novel, the film follows a 7-year-old boy who has a run in with real-life witches. Warner Bros. had previously adapted the book in 1990 with Huston playing one of the title characters, but sources close to the project say Zemeckis’ version will be more rooted in the original source material, while the Huston pic was a loose adaptation.Zemeckis will also pen the script as well as produce with his partner Jack Rapke through their banner ImageMovers, along\n",
      "Fox Searchlight has set a summer release date for “Tolkien,” the biopic on “The Lord of the Rings” author J.R.R. Tolkien.The film starring Nicholas Hoult as the fantasy author will open on May 10, 2019.Directed by Dome Karukoski, “Tolkien” explores the formative years of the orphaned author as he finds friendship, love and artistic inspiration among a group of fellow outcasts at school. This takes him into the outbreak of World War I, which threatens to tear the “Fellowship” apart. All of these experiences would inspire Tolkien to write his famous Middle-Earth novel.Also Read: New Jrr Tolkien Story Hits Shelves a Century After It Was WrittenThe full cast has also been revealed, including Lily Collins, Colm Meaney, Anthony Boyle, Patrick Gibson, Tom Glynn-Carney, Craig Roberts, Laura Donnelly, Genevieve O’Reilly, Pam Ferris and Derek Jacobi.David Gleeson and Stephen Beresford wrote the screenplay. Peter Chernin is producing on\n",
      "After bouncing back in 2017, the overseas box office revenue of French movies plummeted by 51% to 237 million euros ($270 million) with 40 million admissions sold, a 52% year-on drop, in 2018.The provisional box office figures were unveiled by UniFrance during a reception hosted at France’s culture minister during which Eric Toledano and Olivier Nakache, the directors of “The Intouchables” and most recently “C’est La Vie” received the French Cinema Award.Co-produced and sold by Gaumont, “C’est La Vie” grossed over 15 million overseas and was the second biggest French hit in international markets in 2018, following the EuropaCorp-produced “Taxi 5,” an action-packed film directed by Franck Gastambide.The other French films ranking in the top 10 of 2018 include Dany Boon’s “La Ch’tite Famille” (Pathé), “Belle and Sebastian, Friends for Life” (Gaumont), the animated film “White Fang” (Sc Films International), “Rolling to You” (Gaumont), “Big Bad Fox & Other Tales” (StudioCanal), “The Young Karl Marx\n",
      "Bradford Cox was 16 years old when he wrote his autobiography for the first time. “The title was The Burden of Time Is Fucked,” he says. It was more like a zine, really — the product of a lonely, queer, working-class kid in Athens, Georgia, reaching out to a future self. “Very thin,” he adds. “There was nothing to put in the fucking book.”Since then, Cox has lived a life rich enough to fill several volumes. Deerhunter, the group he’s led since 2001, is one of the great guitar bands of the 21st century,\n",
      "This week, New York Governor Andrew Cuomo announced his plan to legalize recreational marijuana in the state. The proposed Cannabis Regulation and Taxation Act would restrict sales to those over the age of 21 and seal convictions on criminal records for possession offenses that would no longer be illegal under the new law. It is projected to bring in $300 million in tax revenue in the first three years.The bill would create an Office of Cannabis Management, a centralized approach to overseeing licensure, cultivation, production, distribution, sale and taxation, which a\n",
      "(Warning: While not necessarily a spoiler alert due to the multiple versions of the story, if you want to find all the different endings for yourself, we would not suggest reading the below. So go watch them and then Be Right Back).We’ll get right to it (instead of making you choose the content of this post): “Bandersnatch” — the feature-length choose-your-own-adventure installment of Charlie Brooker’s anthology series, “Black Mirror” — landed on Netflix on Friday and since then TheWrap has gone through several viewings trying to figure it out.As best as TheWrap can tell — after an unhealthy amount of viewings and backtracks — the interactive story about ’80s video game programmer Stefan (Fionn Whitehead) and his attempts to develop the fantasy novel “Bandersnatch” into a video game, has 5 “main” endings. By which we mean, endings that trigger the closing credits — or rather, the option to “exit to credits\n",
      "Nashville based singer-songwriter Cale Tyson gets back to basics for the new Narcissist Ep, out February 1st. And with the song “Red Blooded Fools,” the spartan set (for which all titles are stylized in lowercase) focuses on contemplation.Written and recorded over a productive three-day period in Tyson’s bedroom, each of the Ep’s four tracks is laid bare with minimalist production. Tyson handles most of the parts himself, including layering his own vocals. For the Texas-bred former trad-country stalwart, it’s another step away from what was beginning\n",
      "Where in the world has Carmen Sandiego been? On Jan. 18, after a 20-year absence of our favorite former spy turned international thief, Netflix will bring back the character with an eponymous animated series starring Gina Rodriguez. The iconic edutainment character first debuted in a 1985 video game, and since then, she has whisked millions of children to every corner of the world, stealing treasures and causing mischief. The last iteration, the animated TV series, “Where on Earth Is Carmen Sandiego?”, with Rita Moreno voicing the antiheroine, wrapped in 1999.But executive producer Caroline Fraser feels now more than ever, the television landscape\n",
      "USA Network has titled its upcoming spinoff of “Suits” that will follow Gina Torres’s character, Jessica Pearson.The upcoming drama will be titled “Pearson.”Torres will lead the project, which will focus on her character as she adjusts to Chicago politics. During season 7, Jessica left New York and for Chicago. Her new journey in the Windy City was introduced in the Season 7 finale on April 25.Also Read: 'Suits' Renewed for Season 8 Without Meghan Markle, Patrick J Adams“It was an extraordinary pleasure working with Gina on ‘Suits’ for six years. Beyond her undeniable talent, she is an incredible partner and collaborator, and I always hoped we would work together again,” “Suits” creator and executive producer Aaron Korsh said. Korsh will executive produce and write the new drama.The drama comes from Universal Cable Productions (Ucp). Daniel Arkin will serve as executive producer and showrunner. Torres, Doug Liman,\n",
      "Future lounges in a white office, in a cream coat, occasionally flashing his pearly white teeth. It’s the eighth anniversary of Dirty Sprite, the 2011 mixtape that served as the foundation for an impossibly prolific run for the rapper. The tape — and everything that came with it; the drink, the drugs, the Future persona — spawned an era. Now, Nayvadius Wilburn is declaring the end of that chapter, split between relief and haunted by what, exactly, he wrought.“I made it seem so cool,” Future says, sadly. “I made it seem so fucking cool.\n",
      "Kiss will take the stage at the Whisky a Go Go in Los Angeles for a special invitation-only concert for SiriusXM subscribers. The show will take take place February 11th and it will air on Kiss’ SiriusXM channel, Kiss Army Radio, February 12th at 5 p.m. Et. An encore performance will broadcast on Howard Stern’s Howard 101 channel February 15th at 9 p.m. Et.SiriusXM subscribers will have the opportunity to win tickets to the show via an e-mail invitation. Subscribers since January 1st are also eligible to enter a\n",
      "James Blake, dance producer turned melancholic experimental songwriter, is prepping for a new album to be released on Friday, January 18th. Assume Form, Blake’s first full-length since 2016’s The Colour In Anything, promises to be a higher profile affair than his previous records, and finds the English producer and singer recruiting collaborators from the hip-hop world to add new textures to his work.On the album’s latest single, “Mile High,” Travis Scott repays the favor Blake paid him on Astroworld‘s “Stop Trying To Be God,” showing up for a guest appearance.\n",
      "(Spoilers ahead for the first two episode of season 3 of HBO’s “True Detective”)The HBO mystery anthology series “True Detective” took a lengthy hiatus after its second season aired way back in 2015, but now it’s back with Mahershala Ali in a new story that spans decades.HBO started us off with two episodes in a row on Sunday night, and it’s tough to know what to make of this whole thing so far. That’s not too terribly surprising, given the cryptic and slow burning nature of the show — creator Nic Pizzolatto and co. are big on holding back key details until the right moment.Here’s the broad stuff we know about the mystery at the center of Season 3 of “True Detective” so far (we’ll get into smaller details in a bit). A pair of children, a brother and sister named Will and Julie Purcell,\n",
      "“Dora the Explorer’s” Isabela Moner, “Spider-Man: Into the Spider-Verse’s” Shameik Moore, “Chilling Adventures of Sabrina’s” Kiernan Shipka, “Lady Bird’s” Odeya Rush, Jacob Batalon, Miles Robbins, Mitchell Hope, Liv Hewson, Anna Akana, and Joan Cusack are set to star in the Netflix pic “Let It Snow.”The film is based on the New York Times bestselling book by John Green, Maureen Johnson, and Lauren Myracle with Luke Snellin directing.The story is set during a once-in-a-century snowstorm that hits a small town on Christmas Eve, where several high school seniors discover unexpected opportunities as well as complications that test their friendships, love lives, and aspirations for the future.“Finding Dory” scribe Victoria Strouse penned the script with Dylan Clark producing through his Dylan Clark Productions along with Alexa Faigen. Beau Bauman, executive vice president of Dylan Clark Productions, and Brendan Ferguson will exec produce.Production is set\n",
      "Shameik Moore, Kiernan Shipka and Joan Cusack have been cast in the Netflix original film, “Let it Snow,” the studio announced on Thursday.The film, based on The New York Times bestselling book by Ya authors John Green, Maureen Johnson and Lauren Myracle, tells the story of a once-in-century snowstorm that hits a small town on Christmas Eve, leading several high school seniors to discover unexpected opportunities as well as complications that test their friendships, love lives, and aspirations for the future.“Let it Snow” will also star Isabela Moner (“Transformers: The Last Knight”), Odeya Rush (“Lady Bird”), Jacob Batalon, Miles Robbins (“Blockers”), Mitchell Hope (“Descendants”), Liv Hewson (“Santa Clarita Diet”) and Anna Akana (“You Get Me”).Also Read: André Holland Is a Baller Agent in Steven Soderbergh's 'High Flying Bird' Trailer (Video)The film will mark the feature-length directorial debut for filmmaker Luke Snellin, who has\n"
     ]
    }
   ],
   "source": [
    "for item in [detail.text for detail in soup.find_all('div',attrs={'class':'news-article__content'})]:\n",
    "  print(item.strip())\n"
   ]
  },
  {
   "cell_type": "code",
   "execution_count": 26,
   "metadata": {
    "colab": {
     "base_uri": "https://localhost:8080/",
     "height": 272
    },
    "colab_type": "code",
    "executionInfo": {
     "elapsed": 1624,
     "status": "ok",
     "timestamp": 1547749042271,
     "user": {
      "displayName": "StormlightX",
      "photoUrl": "https://lh5.googleusercontent.com/-1l4qBYOTOdk/AAAAAAAAAAI/AAAAAAAAWlA/lB3vfUQBD2Y/s64/photo.jpg",
      "userId": "04862885639735295114"
     },
     "user_tz": -330
    },
    "id": "TN3s71iUBzAw",
    "outputId": "ce3c99de-416c-49c4-da26-25d720f23553"
   },
   "outputs": [
    {
     "data": {
      "text/plain": [
       "['Reliance Jio reports Rs. 831 crore profit in FY Q3 2018-19, crosses 10000 crore quarterly operating revenue',\n",
       " 'Xiaomi’s Survival Game now available for download',\n",
       " 'AISEN A65UDS980 65-inch 4K Smart TV with Dolby audio launched in India',\n",
       " 'Xiaomi Redmi Note 7 Pro expected to be powered by Snapdragon 675',\n",
       " 'Xiaomi schedules MWC 2019 event on February 24, Mi MIX 3 5G expected',\n",
       " 'Xiaomi showcases bigger in-display fingerprint scanner with one-click unlocking',\n",
       " 'Paytm launches Food Ordering in partnership with Zomato',\n",
       " 'SHARP FP-JC2M-B car air purifier with HEPA & Carbon filters launched in India',\n",
       " 'Android Q early build leak: System-wide dark theme, permission revamp, Desktop Mode and more',\n",
       " 'Microsoft Windows 10 19H1 Insider Preview test build separates search and Cortana',\n",
       " 'US reportedly investigates Huawei over alleged theft of trade secrets',\n",
       " 'Motorola RAZR smartphone with foldable display said to launch in February',\n",
       " 'LG said to be working on a smartphone with second-screen for MWC 2019',\n",
       " 'Amazon Echo Input launched in India at Rs. 2999',\n",
       " 'OBSBOT Tail is the world’s first Auto-Director AI camera – Here’s why I’m excited!']"
      ]
     },
     "execution_count": 26,
     "metadata": {
      "tags": []
     },
     "output_type": "execute_result"
    }
   ],
   "source": [
    "data=get_data(url2)\n",
    "soup = BeautifulSoup(data,'lxml')\n",
    "[title.text for title in soup.find_all('h2',attrs={'class':'entry-title'})]"
   ]
  },
  {
   "cell_type": "code",
   "execution_count": 0,
   "metadata": {
    "colab": {},
    "colab_type": "code",
    "id": "4fPPNSRjEmem"
   },
   "outputs": [],
   "source": []
  }
 ],
 "metadata": {
  "colab": {
   "name": "testsoup.ipynb",
   "provenance": [],
   "version": "0.3.2"
  },
  "kernelspec": {
   "display_name": "Python 3",
   "name": "python3"
  }
 },
 "nbformat": 4,
 "nbformat_minor": 0
}
