{
 "cells": [
  {
   "cell_type": "code",
   "execution_count": 1,
   "metadata": {},
   "outputs": [],
   "source": [
    "import numpy as np\n",
    "import pandas as pd\n",
    "import numpy as np\n",
    "\n",
    "# Create and fit a nearest-neighbor classifier\n",
    "\n",
    "from sklearn.model_selection import train_test_split\n",
    "from sklearn.neighbors import KNeighborsClassifier\n",
    "from sklearn.ensemble import RandomForestClassifier\n",
    "from sklearn.utils import shuffle"
   ]
  },
  {
   "cell_type": "code",
   "execution_count": 2,
   "metadata": {},
   "outputs": [],
   "source": [
    "df = pd.read_csv('chennai-house-pricing/train.csv',parse_dates=['DATE_SALE','DATE_BUILD'])"
   ]
  },
  {
   "cell_type": "code",
   "execution_count": 3,
   "metadata": {},
   "outputs": [
    {
     "name": "stdout",
     "output_type": "stream",
     "text": [
      "<class 'pandas.core.frame.DataFrame'>\n",
      "RangeIndex: 7109 entries, 0 to 7108\n",
      "Data columns (total 22 columns):\n",
      "PRT_ID           7109 non-null object\n",
      "AREA             7109 non-null object\n",
      "INT_SQFT         7109 non-null int64\n",
      "DATE_SALE        7109 non-null datetime64[ns]\n",
      "DIST_MAINROAD    7109 non-null int64\n",
      "N_BEDROOM        7108 non-null float64\n",
      "N_BATHROOM       7104 non-null float64\n",
      "N_ROOM           7109 non-null int64\n",
      "SALE_COND        7109 non-null object\n",
      "PARK_FACIL       7109 non-null object\n",
      "DATE_BUILD       7109 non-null datetime64[ns]\n",
      "BUILDTYPE        7109 non-null object\n",
      "UTILITY_AVAIL    7109 non-null object\n",
      "STREET           7109 non-null object\n",
      "MZZONE           7109 non-null object\n",
      "QS_ROOMS         7109 non-null float64\n",
      "QS_BATHROOM      7109 non-null float64\n",
      "QS_BEDROOM       7109 non-null float64\n",
      "QS_OVERALL       7061 non-null float64\n",
      "REG_FEE          7109 non-null int64\n",
      "COMMIS           7109 non-null int64\n",
      "SALES_PRICE      7109 non-null int64\n",
      "dtypes: datetime64[ns](2), float64(6), int64(6), object(8)\n",
      "memory usage: 1.2+ MB\n"
     ]
    }
   ],
   "source": [
    "df.info()"
   ]
  },
  {
   "cell_type": "code",
   "execution_count": 4,
   "metadata": {},
   "outputs": [],
   "source": [
    "def label_sale_condition(name):\n",
    "    condition=['AbNormal', 'Family', 'Partial', 'AdjLand', 'Normal Sale',\n",
    "       'Ab Normal', 'Partiall', 'Adj Land', 'PartiaLl']\n",
    "    for pos,item in enumerate(condition):\n",
    "        if name == item:\n",
    "            return pos"
   ]
  },
  {
   "cell_type": "code",
   "execution_count": 6,
   "metadata": {},
   "outputs": [],
   "source": [
    "def label_zone(name):\n",
    "    zone=['A', 'RH', 'RL', 'I', 'C', 'RM']\n",
    "    for pos,item in enumerate(zone):\n",
    "        if name == item:\n",
    "            return pos"
   ]
  },
  {
   "cell_type": "code",
   "execution_count": 27,
   "metadata": {},
   "outputs": [],
   "source": [
    "def label_area(name):\n",
    "    areas=['Karapakkam', 'Anna Nagar', 'Adyar', 'Velachery', 'Chrompet',  'KKNagar', 'T Nagar']\n",
    "    for pos,item in enumerate(areas):\n",
    "        if name == item:\n",
    "            return pos"
   ]
  },
  {
   "cell_type": "code",
   "execution_count": 10,
   "metadata": {},
   "outputs": [],
   "source": [
    "df.PARK_FACIL.replace('Noo','No',inplace=True)\n",
    "df.PARK_FACIL.replace('No',0,inplace=True)\n",
    "df.PARK_FACIL.replace('Yes',1,inplace=True)\n",
    "df.PARK_FACIL=df.PARK_FACIL.astype(int)"
   ]
  },
  {
   "cell_type": "code",
   "execution_count": 11,
   "metadata": {},
   "outputs": [],
   "source": [
    "df.BUILDTYPE.replace('Commercial',0,inplace=True)\n",
    "df.BUILDTYPE.replace('Others',1,inplace=True)\n",
    "df.BUILDTYPE.replace('Other',2,inplace=True)\n",
    "df.BUILDTYPE.replace('House',3,inplace=True)\n",
    "df.BUILDTYPE.replace('Comercial',0,inplace=True)\n",
    "df.BUILDTYPE=df.BUILDTYPE.astype(int)"
   ]
  },
  {
   "cell_type": "code",
   "execution_count": 12,
   "metadata": {},
   "outputs": [],
   "source": [
    "df.UTILITY_AVAIL.replace('AllPub',0,inplace=True)\n",
    "df.UTILITY_AVAIL.replace('All Pub',0,inplace=True)\n",
    "df.UTILITY_AVAIL.replace('ELO',1,inplace=True)\n",
    "df.UTILITY_AVAIL.replace('NoSewr ',2,inplace=True)\n",
    "df.UTILITY_AVAIL.replace('NoSeWa',2,inplace=True)\n",
    "df.UTILITY_AVAIL=df.UTILITY_AVAIL.astype(int)"
   ]
  },
  {
   "cell_type": "code",
   "execution_count": 13,
   "metadata": {},
   "outputs": [],
   "source": [
    "df.STREET.replace('Paved',0,inplace=True)\n",
    "df.STREET.replace('Gravel',1,inplace=True)\n",
    "df.STREET.replace('No Access',2,inplace=True)\n",
    "df.STREET.replace('Pavd',3,inplace=True)\n",
    "df.STREET.replace('NoAccess',2,inplace=True)\n",
    "df.STREET=df.STREET.astype(int)"
   ]
  },
  {
   "cell_type": "code",
   "execution_count": 23,
   "metadata": {},
   "outputs": [],
   "source": [
    "df.AREA.replace('Karapakam','Karapakkam',inplace=True)\n",
    "df.AREA.replace('Ana Nagar','Anna Nagar',inplace=True)\n",
    "df.AREA.replace('Ann Nagar','Anna Nagar',inplace=True)\n",
    "df.AREA.replace('Velchery','Velachery',inplace=True)\n",
    "df.AREA.replace('TNagar','T Nagar',inplace=True)\n",
    "df.AREA.replace('Chrompt','Chrompet',inplace=True)\n",
    "df.AREA.replace('Chrmpet','Chrompet',inplace=True)\n",
    "df.AREA.replace('Chormpet','Chrompet',inplace=True)\n",
    "df.AREA.replace('Adyr','Adyar',inplace=True)\n",
    "df.AREA.replace('KK Nagar','KKNagar',inplace=True)"
   ]
  },
  {
   "cell_type": "code",
   "execution_count": 28,
   "metadata": {},
   "outputs": [],
   "source": [
    "df.loc[:,'AREA_LABEL']=df.AREA.apply(label_area)\n",
    "df.loc[:,'COND_LABEL']=df.SALE_COND.apply(label_sale_condition)\n",
    "df.loc[:,'ZONE_LABEL']=df.MZZONE.apply(label_zone)"
   ]
  },
  {
   "cell_type": "code",
   "execution_count": 40,
   "metadata": {},
   "outputs": [
    {
     "name": "stdout",
     "output_type": "stream",
     "text": [
      "<class 'pandas.core.frame.DataFrame'>\n",
      "Int64Index: 7056 entries, 3548 to 1288\n",
      "Data columns (total 25 columns):\n",
      "PRT_ID           7056 non-null object\n",
      "AREA             7056 non-null object\n",
      "INT_SQFT         7056 non-null int64\n",
      "DATE_SALE        7056 non-null datetime64[ns]\n",
      "DIST_MAINROAD    7056 non-null int64\n",
      "N_BEDROOM        7056 non-null float64\n",
      "N_BATHROOM       7056 non-null float64\n",
      "N_ROOM           7056 non-null int64\n",
      "SALE_COND        7056 non-null object\n",
      "PARK_FACIL       7056 non-null int64\n",
      "DATE_BUILD       7056 non-null datetime64[ns]\n",
      "BUILDTYPE        7056 non-null int64\n",
      "UTILITY_AVAIL    7056 non-null int64\n",
      "STREET           7056 non-null int64\n",
      "MZZONE           7056 non-null object\n",
      "QS_ROOMS         7056 non-null float64\n",
      "QS_BATHROOM      7056 non-null float64\n",
      "QS_BEDROOM       7056 non-null float64\n",
      "QS_OVERALL       7056 non-null float64\n",
      "REG_FEE          7056 non-null int64\n",
      "COMMIS           7056 non-null int64\n",
      "SALES_PRICE      7056 non-null int64\n",
      "AREA_LABEL       7056 non-null int64\n",
      "COND_LABEL       7056 non-null int64\n",
      "ZONE_LABEL       7056 non-null int64\n",
      "dtypes: datetime64[ns](2), float64(6), int64(13), object(4)\n",
      "memory usage: 1.4+ MB\n"
     ]
    }
   ],
   "source": [
    "df.dropna(inplace=True)\n",
    "df.info()"
   ]
  },
  {
   "cell_type": "code",
   "execution_count": 41,
   "metadata": {},
   "outputs": [],
   "source": [
    "df = shuffle(df)\n",
    "train,test=train_test_split(df)"
   ]
  },
  {
   "cell_type": "code",
   "execution_count": 48,
   "metadata": {},
   "outputs": [],
   "source": [
    "train_input=train[['INT_SQFT','DIST_MAINROAD', 'N_BEDROOM',\n",
    "       'N_BATHROOM', 'N_ROOM', 'PARK_FACIL', 'DATE_BUILD',\n",
    "       'BUILDTYPE', 'UTILITY_AVAIL', 'STREET', 'QS_ROOMS',\n",
    "       'QS_BATHROOM', 'QS_BEDROOM', 'QS_OVERALL', 'REG_FEE', 'COMMIS',\n",
    "                 'AREA_LABEL', 'COND_LABEL', 'ZONE_LABEL']]\n",
    "train_output=train[['SALES_PRICE']]\n",
    "test_input=test[['INT_SQFT','DIST_MAINROAD', 'N_BEDROOM',\n",
    "       'N_BATHROOM', 'N_ROOM', 'PARK_FACIL', 'DATE_BUILD',\n",
    "       'BUILDTYPE', 'UTILITY_AVAIL', 'STREET',  'QS_ROOMS',\n",
    "       'QS_BATHROOM', 'QS_BEDROOM', 'QS_OVERALL', 'REG_FEE', 'COMMIS',\n",
    "                 'AREA_LABEL', 'COND_LABEL', 'ZONE_LABEL']]\n",
    "test_output=test[['SALES_PRICE']]\n"
   ]
  },
  {
   "cell_type": "code",
   "execution_count": 52,
   "metadata": {},
   "outputs": [
    {
     "name": "stdout",
     "output_type": "stream",
     "text": [
      "<class 'pandas.core.frame.DataFrame'>\n",
      "Int64Index: 5292 entries, 3006 to 3087\n",
      "Data columns (total 19 columns):\n",
      "INT_SQFT         5292 non-null int64\n",
      "DIST_MAINROAD    5292 non-null int64\n",
      "N_BEDROOM        5292 non-null float64\n",
      "N_BATHROOM       5292 non-null float64\n",
      "N_ROOM           5292 non-null int64\n",
      "PARK_FACIL       5292 non-null int64\n",
      "DATE_BUILD       5292 non-null datetime64[ns]\n",
      "BUILDTYPE        5292 non-null int64\n",
      "UTILITY_AVAIL    5292 non-null int64\n",
      "STREET           5292 non-null int64\n",
      "QS_ROOMS         5292 non-null float64\n",
      "QS_BATHROOM      5292 non-null float64\n",
      "QS_BEDROOM       5292 non-null float64\n",
      "QS_OVERALL       5292 non-null float64\n",
      "REG_FEE          5292 non-null int64\n",
      "COMMIS           5292 non-null int64\n",
      "AREA_LABEL       5292 non-null int64\n",
      "COND_LABEL       5292 non-null int64\n",
      "ZONE_LABEL       5292 non-null int64\n",
      "dtypes: datetime64[ns](1), float64(6), int64(12)\n",
      "memory usage: 826.9 KB\n"
     ]
    }
   ],
   "source": [
    "train_input.info()"
   ]
  },
  {
   "cell_type": "code",
   "execution_count": 49,
   "metadata": {},
   "outputs": [
    {
     "ename": "TypeError",
     "evalue": "float() argument must be a string or a number, not 'Timestamp'",
     "output_type": "error",
     "traceback": [
      "\u001b[0;31m---------------------------------------------------------------------------\u001b[0m",
      "\u001b[0;31mTypeError\u001b[0m                                 Traceback (most recent call last)",
      "\u001b[0;32m<ipython-input-49-5cf41bc7aad2>\u001b[0m in \u001b[0;36m<module>\u001b[0;34m()\u001b[0m\n\u001b[1;32m      1\u001b[0m \u001b[0mknn\u001b[0m \u001b[0;34m=\u001b[0m \u001b[0mKNeighborsClassifier\u001b[0m\u001b[0;34m(\u001b[0m\u001b[0;34m)\u001b[0m\u001b[0;34m\u001b[0m\u001b[0m\n\u001b[0;32m----> 2\u001b[0;31m \u001b[0mknn\u001b[0m\u001b[0;34m.\u001b[0m\u001b[0mfit\u001b[0m\u001b[0;34m(\u001b[0m\u001b[0mtrain_input\u001b[0m\u001b[0;34m,\u001b[0m\u001b[0mtrain_output\u001b[0m\u001b[0;34m)\u001b[0m\u001b[0;34m\u001b[0m\u001b[0m\n\u001b[0m\u001b[1;32m      3\u001b[0m \u001b[0;31m# KNeighborsClassifier()\u001b[0m\u001b[0;34m\u001b[0m\u001b[0;34m\u001b[0m\u001b[0m\n\u001b[1;32m      4\u001b[0m \u001b[0maccuracy\u001b[0m\u001b[0;34m=\u001b[0m\u001b[0mknn\u001b[0m\u001b[0;34m.\u001b[0m\u001b[0mscore\u001b[0m\u001b[0;34m(\u001b[0m\u001b[0mtest_input\u001b[0m\u001b[0;34m,\u001b[0m\u001b[0mtest_output\u001b[0m\u001b[0;34m)\u001b[0m\u001b[0;34m\u001b[0m\u001b[0m\n\u001b[1;32m      5\u001b[0m \u001b[0mprint\u001b[0m\u001b[0;34m(\u001b[0m\u001b[0maccuracy\u001b[0m\u001b[0;34m*\u001b[0m\u001b[0;36m100\u001b[0m\u001b[0;34m)\u001b[0m\u001b[0;34m\u001b[0m\u001b[0m\n",
      "\u001b[0;32m~/anaconda3/lib/python3.6/site-packages/sklearn/neighbors/base.py\u001b[0m in \u001b[0;36mfit\u001b[0;34m(self, X, y)\u001b[0m\n\u001b[1;32m    763\u001b[0m         \"\"\"\n\u001b[1;32m    764\u001b[0m         \u001b[0;32mif\u001b[0m \u001b[0;32mnot\u001b[0m \u001b[0misinstance\u001b[0m\u001b[0;34m(\u001b[0m\u001b[0mX\u001b[0m\u001b[0;34m,\u001b[0m \u001b[0;34m(\u001b[0m\u001b[0mKDTree\u001b[0m\u001b[0;34m,\u001b[0m \u001b[0mBallTree\u001b[0m\u001b[0;34m)\u001b[0m\u001b[0;34m)\u001b[0m\u001b[0;34m:\u001b[0m\u001b[0;34m\u001b[0m\u001b[0m\n\u001b[0;32m--> 765\u001b[0;31m             \u001b[0mX\u001b[0m\u001b[0;34m,\u001b[0m \u001b[0my\u001b[0m \u001b[0;34m=\u001b[0m \u001b[0mcheck_X_y\u001b[0m\u001b[0;34m(\u001b[0m\u001b[0mX\u001b[0m\u001b[0;34m,\u001b[0m \u001b[0my\u001b[0m\u001b[0;34m,\u001b[0m \u001b[0;34m\"csr\"\u001b[0m\u001b[0;34m,\u001b[0m \u001b[0mmulti_output\u001b[0m\u001b[0;34m=\u001b[0m\u001b[0;32mTrue\u001b[0m\u001b[0;34m)\u001b[0m\u001b[0;34m\u001b[0m\u001b[0m\n\u001b[0m\u001b[1;32m    766\u001b[0m \u001b[0;34m\u001b[0m\u001b[0m\n\u001b[1;32m    767\u001b[0m         \u001b[0;32mif\u001b[0m \u001b[0my\u001b[0m\u001b[0;34m.\u001b[0m\u001b[0mndim\u001b[0m \u001b[0;34m==\u001b[0m \u001b[0;36m1\u001b[0m \u001b[0;32mor\u001b[0m \u001b[0my\u001b[0m\u001b[0;34m.\u001b[0m\u001b[0mndim\u001b[0m \u001b[0;34m==\u001b[0m \u001b[0;36m2\u001b[0m \u001b[0;32mand\u001b[0m \u001b[0my\u001b[0m\u001b[0;34m.\u001b[0m\u001b[0mshape\u001b[0m\u001b[0;34m[\u001b[0m\u001b[0;36m1\u001b[0m\u001b[0;34m]\u001b[0m \u001b[0;34m==\u001b[0m \u001b[0;36m1\u001b[0m\u001b[0;34m:\u001b[0m\u001b[0;34m\u001b[0m\u001b[0m\n",
      "\u001b[0;32m~/anaconda3/lib/python3.6/site-packages/sklearn/utils/validation.py\u001b[0m in \u001b[0;36mcheck_X_y\u001b[0;34m(X, y, accept_sparse, dtype, order, copy, force_all_finite, ensure_2d, allow_nd, multi_output, ensure_min_samples, ensure_min_features, y_numeric, warn_on_dtype, estimator)\u001b[0m\n\u001b[1;32m    571\u001b[0m     X = check_array(X, accept_sparse, dtype, order, copy, force_all_finite,\n\u001b[1;32m    572\u001b[0m                     \u001b[0mensure_2d\u001b[0m\u001b[0;34m,\u001b[0m \u001b[0mallow_nd\u001b[0m\u001b[0;34m,\u001b[0m \u001b[0mensure_min_samples\u001b[0m\u001b[0;34m,\u001b[0m\u001b[0;34m\u001b[0m\u001b[0m\n\u001b[0;32m--> 573\u001b[0;31m                     ensure_min_features, warn_on_dtype, estimator)\n\u001b[0m\u001b[1;32m    574\u001b[0m     \u001b[0;32mif\u001b[0m \u001b[0mmulti_output\u001b[0m\u001b[0;34m:\u001b[0m\u001b[0;34m\u001b[0m\u001b[0m\n\u001b[1;32m    575\u001b[0m         y = check_array(y, 'csr', force_all_finite=True, ensure_2d=False,\n",
      "\u001b[0;32m~/anaconda3/lib/python3.6/site-packages/sklearn/utils/validation.py\u001b[0m in \u001b[0;36mcheck_array\u001b[0;34m(array, accept_sparse, dtype, order, copy, force_all_finite, ensure_2d, allow_nd, ensure_min_samples, ensure_min_features, warn_on_dtype, estimator)\u001b[0m\n\u001b[1;32m    446\u001b[0m         \u001b[0;31m# make sure we actually converted to numeric:\u001b[0m\u001b[0;34m\u001b[0m\u001b[0;34m\u001b[0m\u001b[0m\n\u001b[1;32m    447\u001b[0m         \u001b[0;32mif\u001b[0m \u001b[0mdtype_numeric\u001b[0m \u001b[0;32mand\u001b[0m \u001b[0marray\u001b[0m\u001b[0;34m.\u001b[0m\u001b[0mdtype\u001b[0m\u001b[0;34m.\u001b[0m\u001b[0mkind\u001b[0m \u001b[0;34m==\u001b[0m \u001b[0;34m\"O\"\u001b[0m\u001b[0;34m:\u001b[0m\u001b[0;34m\u001b[0m\u001b[0m\n\u001b[0;32m--> 448\u001b[0;31m             \u001b[0marray\u001b[0m \u001b[0;34m=\u001b[0m \u001b[0marray\u001b[0m\u001b[0;34m.\u001b[0m\u001b[0mastype\u001b[0m\u001b[0;34m(\u001b[0m\u001b[0mnp\u001b[0m\u001b[0;34m.\u001b[0m\u001b[0mfloat64\u001b[0m\u001b[0;34m)\u001b[0m\u001b[0;34m\u001b[0m\u001b[0m\n\u001b[0m\u001b[1;32m    449\u001b[0m         \u001b[0;32mif\u001b[0m \u001b[0;32mnot\u001b[0m \u001b[0mallow_nd\u001b[0m \u001b[0;32mand\u001b[0m \u001b[0marray\u001b[0m\u001b[0;34m.\u001b[0m\u001b[0mndim\u001b[0m \u001b[0;34m>=\u001b[0m \u001b[0;36m3\u001b[0m\u001b[0;34m:\u001b[0m\u001b[0;34m\u001b[0m\u001b[0m\n\u001b[1;32m    450\u001b[0m             raise ValueError(\"Found array with dim %d. %s expected <= 2.\"\n",
      "\u001b[0;31mTypeError\u001b[0m: float() argument must be a string or a number, not 'Timestamp'"
     ]
    }
   ],
   "source": [
    "knn = KNeighborsClassifier()\n",
    "knn.fit(train_input,train_output) \n",
    "# KNeighborsClassifier()\n",
    "accuracy=knn.score(test_input,test_output)\n",
    "print(accuracy*100)"
   ]
  },
  {
   "cell_type": "code",
   "execution_count": 50,
   "metadata": {},
   "outputs": [
    {
     "data": {
      "text/plain": [
       "array([5, 2, 3, 4, 1, 0])"
      ]
     },
     "execution_count": 50,
     "metadata": {},
     "output_type": "execute_result"
    }
   ],
   "source": [
    "df.ZONE_LABEL.unique()"
   ]
  },
  {
   "cell_type": "code",
   "execution_count": null,
   "metadata": {},
   "outputs": [],
   "source": []
  }
 ],
 "metadata": {
  "kernelspec": {
   "display_name": "Python 3",
   "language": "python",
   "name": "python3"
  },
  "language_info": {
   "codemirror_mode": {
    "name": "ipython",
    "version": 3
   },
   "file_extension": ".py",
   "mimetype": "text/x-python",
   "name": "python",
   "nbconvert_exporter": "python",
   "pygments_lexer": "ipython3",
   "version": "3.6.5"
  }
 },
 "nbformat": 4,
 "nbformat_minor": 2
}
